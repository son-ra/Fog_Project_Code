{
 "cells": [
  {
   "cell_type": "code",
   "execution_count": 1,
   "metadata": {},
   "outputs": [
    {
     "name": "stdout",
     "output_type": "stream",
     "text": [
      "Requirement already satisfied: opencv-python in /home/smmrrr/miniconda3/envs/condaforge/lib/python3.10/site-packages (4.7.0.68)\n",
      "Requirement already satisfied: numpy>=1.21.2 in /home/smmrrr/miniconda3/envs/condaforge/lib/python3.10/site-packages (from opencv-python) (1.24.2)\n",
      "\n",
      "\u001b[1m[\u001b[0m\u001b[34;49mnotice\u001b[0m\u001b[1;39;49m]\u001b[0m\u001b[39;49m A new release of pip is available: \u001b[0m\u001b[31;49m23.3.1\u001b[0m\u001b[39;49m -> \u001b[0m\u001b[32;49m23.3.2\u001b[0m\n",
      "\u001b[1m[\u001b[0m\u001b[34;49mnotice\u001b[0m\u001b[1;39;49m]\u001b[0m\u001b[39;49m To update, run: \u001b[0m\u001b[32;49mpip install --upgrade pip\u001b[0m\n",
      "Note: you may need to restart the kernel to use updated packages.\n"
     ]
    }
   ],
   "source": [
    "%pip install opencv-python"
   ]
  },
  {
   "cell_type": "code",
   "execution_count": 2,
   "metadata": {},
   "outputs": [
    {
     "name": "stderr",
     "output_type": "stream",
     "text": [
      "2024-01-23 17:23:31.473254: I tensorflow/core/platform/cpu_feature_guard.cc:193] This TensorFlow binary is optimized with oneAPI Deep Neural Network Library (oneDNN) to use the following CPU instructions in performance-critical operations:  SSE4.1 SSE4.2 AVX AVX2 FMA\n",
      "To enable them in other operations, rebuild TensorFlow with the appropriate compiler flags.\n"
     ]
    }
   ],
   "source": [
    "import os\n",
    "import numpy as np\n",
    "import pandas as pd\n",
    "from sklearn.model_selection import train_test_split\n",
    "from sklearn.preprocessing import LabelEncoder\n",
    "from tensorflow.keras.preprocessing.image import load_img, img_to_array\n",
    "from tensorflow.keras.utils import to_categorical\n",
    "from tensorflow.keras.models import Sequential\n",
    "from tensorflow.keras.layers import Conv2D, MaxPooling2D, Flatten, Dense\n",
    "from tensorflow.keras.optimizers import Adam\n",
    "from tensorflow.keras.callbacks import EarlyStopping\n",
    "import cv2\n",
    "from sklearn.metrics import classification_report, confusion_matrix, roc_auc_score, roc_curve, precision_recall_curve, auc\n",
    "import matplotlib.pyplot as plt\n",
    "from sklearn.metrics import roc_curve, auc"
   ]
  },
  {
   "cell_type": "code",
   "execution_count": 3,
   "metadata": {},
   "outputs": [],
   "source": [
    "# Load labels file\n",
    "df = pd.read_csv('/home/smmrrr/Fog_Imaging_Project/Fog_Project_Code/datasets/fog_aware_stats_new_labels.csv')\n",
    "df = df[['photo', 'Label_new','Label_train']]\n",
    "# Set image directory\n",
    "img_dir = '/home/smmrrr/Fog_Imaging_Project/sta_221/all_surfline_photos/'"
   ]
  },
  {
   "cell_type": "code",
   "execution_count": 4,
   "metadata": {},
   "outputs": [
    {
     "name": "stdout",
     "output_type": "stream",
     "text": [
      "Label Counts:\n",
      "not_foggy    6981\n",
      "foggy        1015\n",
      "Name: Label_new, dtype: int64\n"
     ]
    }
   ],
   "source": [
    "label_counts = df['Label_new'].value_counts()\n",
    "\n",
    "print(\"Label Counts:\")\n",
    "print(label_counts)"
   ]
  },
  {
   "cell_type": "code",
   "execution_count": 6,
   "metadata": {},
   "outputs": [
    {
     "data": {
      "text/plain": [
       "0.14539464260134652"
      ]
     },
     "execution_count": 6,
     "metadata": {},
     "output_type": "execute_result"
    }
   ],
   "source": [
    "1015/6981"
   ]
  },
  {
   "cell_type": "code",
   "execution_count": 5,
   "metadata": {},
   "outputs": [
    {
     "data": {
      "text/plain": [
       "not_foggy    6981\n",
       "foggy        1015\n",
       "Name: Label_new, dtype: int64"
      ]
     },
     "execution_count": 5,
     "metadata": {},
     "output_type": "execute_result"
    }
   ],
   "source": [
    "label_counts"
   ]
  },
  {
   "cell_type": "code",
   "execution_count": 13,
   "metadata": {},
   "outputs": [
    {
     "data": {
      "text/html": [
       "<div>\n",
       "<style scoped>\n",
       "    .dataframe tbody tr th:only-of-type {\n",
       "        vertical-align: middle;\n",
       "    }\n",
       "\n",
       "    .dataframe tbody tr th {\n",
       "        vertical-align: top;\n",
       "    }\n",
       "\n",
       "    .dataframe thead th {\n",
       "        text-align: right;\n",
       "    }\n",
       "</style>\n",
       "<table border=\"1\" class=\"dataframe\">\n",
       "  <thead>\n",
       "    <tr style=\"text-align: right;\">\n",
       "      <th></th>\n",
       "      <th>photo</th>\n",
       "      <th>Label_new</th>\n",
       "      <th>Label_train</th>\n",
       "    </tr>\n",
       "  </thead>\n",
       "  <tbody>\n",
       "    <tr>\n",
       "      <th>0</th>\n",
       "      <td>2022_07-04.0000_agatebeachor.jpg</td>\n",
       "      <td>not_foggy</td>\n",
       "      <td>0</td>\n",
       "    </tr>\n",
       "    <tr>\n",
       "      <th>1</th>\n",
       "      <td>2022_07-04.0000_otterrockor.jpg</td>\n",
       "      <td>not_foggy</td>\n",
       "      <td>0</td>\n",
       "    </tr>\n",
       "    <tr>\n",
       "      <th>2</th>\n",
       "      <td>2022_07-04.0700_agatebeachor.jpg</td>\n",
       "      <td>not_foggy</td>\n",
       "      <td>0</td>\n",
       "    </tr>\n",
       "    <tr>\n",
       "      <th>3</th>\n",
       "      <td>2022_07-04.0730_agatebeachor.jpg</td>\n",
       "      <td>not_foggy</td>\n",
       "      <td>0</td>\n",
       "    </tr>\n",
       "    <tr>\n",
       "      <th>4</th>\n",
       "      <td>2022_07-04.0730_otterrockor.jpg</td>\n",
       "      <td>not_foggy</td>\n",
       "      <td>0</td>\n",
       "    </tr>\n",
       "    <tr>\n",
       "      <th>...</th>\n",
       "      <td>...</td>\n",
       "      <td>...</td>\n",
       "      <td>...</td>\n",
       "    </tr>\n",
       "    <tr>\n",
       "      <th>7991</th>\n",
       "      <td>2023_09-30.1900_agatebeachor.jpg</td>\n",
       "      <td>not_foggy</td>\n",
       "      <td>0</td>\n",
       "    </tr>\n",
       "    <tr>\n",
       "      <th>7992</th>\n",
       "      <td>2023_09-30.1930_cannonbeach.jpg</td>\n",
       "      <td>not_foggy</td>\n",
       "      <td>0</td>\n",
       "    </tr>\n",
       "    <tr>\n",
       "      <th>7993</th>\n",
       "      <td>2023_09-30.2000_otterrockor.jpg</td>\n",
       "      <td>not_foggy</td>\n",
       "      <td>0</td>\n",
       "    </tr>\n",
       "    <tr>\n",
       "      <th>7994</th>\n",
       "      <td>2023_09-30.2030_otterrockor.jpg</td>\n",
       "      <td>not_foggy</td>\n",
       "      <td>0</td>\n",
       "    </tr>\n",
       "    <tr>\n",
       "      <th>7995</th>\n",
       "      <td>2023_09-30.2100_pacificcityor.jpg</td>\n",
       "      <td>not_foggy</td>\n",
       "      <td>0</td>\n",
       "    </tr>\n",
       "  </tbody>\n",
       "</table>\n",
       "<p>7996 rows × 3 columns</p>\n",
       "</div>"
      ],
      "text/plain": [
       "                                  photo  Label_new  Label_train\n",
       "0      2022_07-04.0000_agatebeachor.jpg  not_foggy            0\n",
       "1       2022_07-04.0000_otterrockor.jpg  not_foggy            0\n",
       "2      2022_07-04.0700_agatebeachor.jpg  not_foggy            0\n",
       "3      2022_07-04.0730_agatebeachor.jpg  not_foggy            0\n",
       "4       2022_07-04.0730_otterrockor.jpg  not_foggy            0\n",
       "...                                 ...        ...          ...\n",
       "7991   2023_09-30.1900_agatebeachor.jpg  not_foggy            0\n",
       "7992    2023_09-30.1930_cannonbeach.jpg  not_foggy            0\n",
       "7993    2023_09-30.2000_otterrockor.jpg  not_foggy            0\n",
       "7994    2023_09-30.2030_otterrockor.jpg  not_foggy            0\n",
       "7995  2023_09-30.2100_pacificcityor.jpg  not_foggy            0\n",
       "\n",
       "[7996 rows x 3 columns]"
      ]
     },
     "metadata": {},
     "output_type": "display_data"
    }
   ],
   "source": [
    "display(df)"
   ]
  },
  {
   "cell_type": "code",
   "execution_count": 7,
   "metadata": {},
   "outputs": [
    {
     "data": {
      "text/plain": [
       "5966"
      ]
     },
     "execution_count": 7,
     "metadata": {},
     "output_type": "execute_result"
    }
   ],
   "source": [
    "label_counts.loc['not_foggy'] - label_counts.loc['foggy']"
   ]
  },
  {
   "cell_type": "code",
   "execution_count": 8,
   "metadata": {},
   "outputs": [
    {
     "name": "stdout",
     "output_type": "stream",
     "text": [
      "                                  photo  Label_new  Label_train\n",
      "4       2022_07-04.0730_otterrockor.jpg  not_foggy            0\n",
      "9       2022_07-04.0830_otterrockor.jpg  not_foggy            0\n",
      "16    2022_07-04.0930_lincolncityor.jpg  not_foggy            0\n",
      "34      2022_07-04.1300_otterrockor.jpg  not_foggy            0\n",
      "55      2022_07-04.1700_otterrockor.jpg  not_foggy            0\n",
      "...                                 ...        ...          ...\n",
      "7969    2023_09-29.2100_cannonbeach.jpg  not_foggy            0\n",
      "7972  2023_09-30.1030_pacificcityor.jpg  not_foggy            0\n",
      "7980  2023_09-30.1300_lincolncityor.jpg  not_foggy            0\n",
      "7982    2023_09-30.1330_cannonbeach.jpg  not_foggy            0\n",
      "7986   2023_09-30.1600_agatebeachor.jpg  not_foggy            0\n",
      "\n",
      "[2030 rows x 3 columns]\n",
      "not_foggy    6981\n",
      "foggy        1015\n",
      "Name: Label_new, dtype: int64\n"
     ]
    }
   ],
   "source": [
    "\n",
    "# Number of data points to drop from the \"non-foggy\" class\n",
    "num_to_drop = label_counts.loc['not_foggy'] - label_counts.loc['foggy']\n",
    "\n",
    "# Check if the number to drop is greater than the count of \"non-foggy\" class\n",
    "if num_to_drop > label_counts[0]:\n",
    "    print(\"Warning: The specified number of data points to drop is greater than the count of 'foggy' class.\")\n",
    "else:\n",
    "    # Randomly drop data points from the \"non-foggy\" class\n",
    "    df_to_drop = df[df['Label_train'] == 0].sample(n=num_to_drop, random_state=42)\n",
    "    df_filtered = df.drop(df_to_drop.index)\n",
    "\n",
    "    # Display the resulting DataFrame\n",
    "    print(df_filtered)\n",
    "    print(label_counts)\n"
   ]
  },
  {
   "cell_type": "code",
   "execution_count": 9,
   "metadata": {},
   "outputs": [
    {
     "name": "stdout",
     "output_type": "stream",
     "text": [
      "Label Counts:\n",
      "0    1015\n",
      "1    1015\n",
      "Name: Label_train, dtype: int64\n"
     ]
    }
   ],
   "source": [
    "label_counts = df_filtered['Label_train'].value_counts()\n",
    "\n",
    "print(\"Label Counts:\")\n",
    "print(label_counts)"
   ]
  },
  {
   "cell_type": "code",
   "execution_count": 10,
   "metadata": {},
   "outputs": [],
   "source": [
    "# Load images and labels\n",
    "data = []\n",
    "labels = []\n",
    "\n",
    "for index, row in df_filtered.iterrows():\n",
    "    img_path = os.path.join(img_dir, row['photo'])\n",
    "    try:\n",
    "        img = load_img(img_path, target_size=(100, 100))  # Specify the target size of your images\n",
    "    except Exception as e:\n",
    "        print(f\"Error loading image {img_path}: {e}\")\n",
    "    img_array = img_to_array(img)\n",
    "\n",
    "    # Edge detection using Canny algorithm\n",
    "    gray_image = cv2.cvtColor(img_array.astype('uint8'), cv2.COLOR_RGB2GRAY)\n",
    "    edges = cv2.Canny(gray_image, threshold1=30, threshold2=100)\n",
    "\n",
    "    # Stack the original image and edges as input\n",
    "    img_with_edges = np.dstack([img_array, edges])\n",
    "    \n",
    "    data.append(img_with_edges)\n",
    "    labels.append(row['Label_train'])"
   ]
  },
  {
   "cell_type": "code",
   "execution_count": 11,
   "metadata": {},
   "outputs": [],
   "source": [
    "# Convert lists to numpy arrays\n",
    "data = np.array(data)\n",
    "labels = np.array(labels)\n",
    "\n",
    "# Ensure labels are in the format 0 or 1 for binary classification\n",
    "labels = labels.astype(int)"
   ]
  },
  {
   "cell_type": "code",
   "execution_count": 12,
   "metadata": {},
   "outputs": [],
   "source": [
    "# Normalize pixel values to be between 0 and 1\n",
    "data = data / 255.0"
   ]
  },
  {
   "cell_type": "code",
   "execution_count": 13,
   "metadata": {},
   "outputs": [],
   "source": [
    "# Perform train-test split\n",
    "X_train, X_test, y_train, y_test = train_test_split(data, labels, test_size=0.2, random_state=42)\n"
   ]
  },
  {
   "cell_type": "code",
   "execution_count": 14,
   "metadata": {},
   "outputs": [
    {
     "data": {
      "text/plain": [
       "406"
      ]
     },
     "execution_count": 14,
     "metadata": {},
     "output_type": "execute_result"
    }
   ],
   "source": [
    "len(X_train)\n",
    "len(X_test)"
   ]
  },
  {
   "cell_type": "code",
   "execution_count": 15,
   "metadata": {},
   "outputs": [
    {
     "name": "stdout",
     "output_type": "stream",
     "text": [
      "Model: \"sequential\"\n",
      "_________________________________________________________________\n",
      " Layer (type)                Output Shape              Param #   \n",
      "=================================================================\n",
      " conv2d (Conv2D)             (None, 98, 98, 32)        1184      \n",
      "                                                                 \n",
      " max_pooling2d (MaxPooling2D  (None, 49, 49, 32)       0         \n",
      " )                                                               \n",
      "                                                                 \n",
      " conv2d_1 (Conv2D)           (None, 47, 47, 64)        18496     \n",
      "                                                                 \n",
      " max_pooling2d_1 (MaxPooling  (None, 23, 23, 64)       0         \n",
      " 2D)                                                             \n",
      "                                                                 \n",
      " conv2d_2 (Conv2D)           (None, 21, 21, 128)       73856     \n",
      "                                                                 \n",
      " max_pooling2d_2 (MaxPooling  (None, 10, 10, 128)      0         \n",
      " 2D)                                                             \n",
      "                                                                 \n",
      " flatten (Flatten)           (None, 12800)             0         \n",
      "                                                                 \n",
      " dense (Dense)               (None, 128)               1638528   \n",
      "                                                                 \n",
      " dense_1 (Dense)             (None, 1)                 129       \n",
      "                                                                 \n",
      "=================================================================\n",
      "Total params: 1,732,193\n",
      "Trainable params: 1,732,193\n",
      "Non-trainable params: 0\n",
      "_________________________________________________________________\n"
     ]
    },
    {
     "name": "stderr",
     "output_type": "stream",
     "text": [
      "2024-01-23 17:24:20.257675: I tensorflow/core/platform/cpu_feature_guard.cc:193] This TensorFlow binary is optimized with oneAPI Deep Neural Network Library (oneDNN) to use the following CPU instructions in performance-critical operations:  SSE4.1 SSE4.2 AVX AVX2 FMA\n",
      "To enable them in other operations, rebuild TensorFlow with the appropriate compiler flags.\n"
     ]
    }
   ],
   "source": [
    "# Build CNN Model\n",
    "model = Sequential()\n",
    "\n",
    "model.add(Conv2D(32, (3, 3), activation='relu', input_shape=(100, 100, 4)))\n",
    "model.add(MaxPooling2D((2, 2)))\n",
    "\n",
    "model.add(Conv2D(64, (3, 3), activation='relu'))\n",
    "model.add(MaxPooling2D((2, 2)))\n",
    "\n",
    "model.add(Conv2D(128, (3, 3), activation='relu'))\n",
    "model.add(MaxPooling2D((2, 2)))\n",
    "\n",
    "model.add(Flatten())\n",
    "model.add(Dense(128, activation='relu'))\n",
    "model.add(Dense(1, activation='sigmoid'))  # For binary classification\n",
    "\n",
    "# Compile the model with specified learning rate\n",
    "opt = Adam(learning_rate=0.01)\n",
    "model.compile(optimizer=opt, loss='binary_crossentropy', metrics=['accuracy'])\n",
    "\n",
    "# Display model summary\n",
    "model.summary()"
   ]
  },
  {
   "cell_type": "code",
   "execution_count": 16,
   "metadata": {},
   "outputs": [
    {
     "name": "stdout",
     "output_type": "stream",
     "text": [
      "Requirement already satisfied: pydot in /home/smmrrr/miniconda3/envs/condaforge/lib/python3.10/site-packages (1.4.2)\n",
      "Requirement already satisfied: pyparsing>=2.1.4 in /home/smmrrr/miniconda3/envs/condaforge/lib/python3.10/site-packages (from pydot) (3.0.9)\n",
      "\n",
      "\u001b[1m[\u001b[0m\u001b[34;49mnotice\u001b[0m\u001b[1;39;49m]\u001b[0m\u001b[39;49m A new release of pip is available: \u001b[0m\u001b[31;49m23.3.1\u001b[0m\u001b[39;49m -> \u001b[0m\u001b[32;49m23.3.2\u001b[0m\n",
      "\u001b[1m[\u001b[0m\u001b[34;49mnotice\u001b[0m\u001b[1;39;49m]\u001b[0m\u001b[39;49m To update, run: \u001b[0m\u001b[32;49mpip install --upgrade pip\u001b[0m\n",
      "Note: you may need to restart the kernel to use updated packages.\n"
     ]
    }
   ],
   "source": [
    "%pip install pydot"
   ]
  },
  {
   "cell_type": "code",
   "execution_count": 17,
   "metadata": {},
   "outputs": [
    {
     "data": {
      "image/png": "[encoded data removed]",
      "text/plain": [
       "<IPython.core.display.Image object>"
      ]
     },
     "execution_count": 17,
     "metadata": {},
     "output_type": "execute_result"
    }
   ],
   "source": [
    "from keras.utils import plot_model\n",
    "plot_model(model, to_file='cnn_model.png', show_shapes=True, show_layer_names=True)"
   ]
  },
  {
   "cell_type": "code",
   "execution_count": 18,
   "metadata": {},
   "outputs": [
    {
     "name": "stdout",
     "output_type": "stream",
     "text": [
      "Epoch 1/10\n",
      "51/51 [==============================] - 6s 104ms/step - loss: 1.4735 - accuracy: 0.6305 - val_loss: 0.2531 - val_accuracy: 0.8793\n",
      "Epoch 2/10\n",
      "51/51 [==============================] - 5s 95ms/step - loss: 0.2562 - accuracy: 0.8873 - val_loss: 0.2105 - val_accuracy: 0.8966\n",
      "Epoch 3/10\n",
      "51/51 [==============================] - 5s 95ms/step - loss: 0.2565 - accuracy: 0.8990 - val_loss: 0.1908 - val_accuracy: 0.9212\n",
      "Epoch 4/10\n",
      "51/51 [==============================] - 5s 94ms/step - loss: 0.2135 - accuracy: 0.9064 - val_loss: 0.2832 - val_accuracy: 0.9113\n",
      "Epoch 5/10\n",
      "51/51 [==============================] - 5s 98ms/step - loss: 0.1970 - accuracy: 0.9175 - val_loss: 0.2305 - val_accuracy: 0.9089\n",
      "Epoch 6/10\n",
      "51/51 [==============================] - 5s 93ms/step - loss: 0.1712 - accuracy: 0.9243 - val_loss: 0.1749 - val_accuracy: 0.9163\n",
      "Epoch 7/10\n",
      "51/51 [==============================] - 5s 96ms/step - loss: 0.1763 - accuracy: 0.9255 - val_loss: 0.1901 - val_accuracy: 0.9163\n",
      "Epoch 8/10\n",
      "51/51 [==============================] - 5s 94ms/step - loss: 0.1535 - accuracy: 0.9292 - val_loss: 0.1770 - val_accuracy: 0.9212\n",
      "Epoch 9/10\n",
      "51/51 [==============================] - 5s 91ms/step - loss: 0.1368 - accuracy: 0.9403 - val_loss: 0.1926 - val_accuracy: 0.9261\n",
      "Epoch 10/10\n",
      "51/51 [==============================] - 5s 91ms/step - loss: 0.1086 - accuracy: 0.9526 - val_loss: 0.2027 - val_accuracy: 0.9187\n",
      "13/13 [==============================] - 0s 17ms/step - loss: 0.2027 - accuracy: 0.9187\n",
      "Test Accuracy: 91.87%\n"
     ]
    }
   ],
   "source": [
    "# Early Stopping\n",
    "early_stopping = EarlyStopping(monitor='val_loss', patience=5, restore_best_weights=True)\n",
    "\n",
    "# Train the Model\n",
    "history = model.fit(X_train, y_train, epochs=10, batch_size=32, validation_data=(X_test, y_test), callbacks=[early_stopping])\n",
    "\n",
    "# Evaluate the Model\n",
    "accuracy = model.evaluate(X_test, y_test)[1]\n",
    "print(f'Test Accuracy: {accuracy * 100:.2f}%')\n"
   ]
  },
  {
   "cell_type": "code",
   "execution_count": 21,
   "metadata": {},
   "outputs": [
    {
     "name": "stdout",
     "output_type": "stream",
     "text": [
      "Epoch 1/10\n",
      "216/216 [==============================] - 75s 337ms/step - loss: 0.6505 - accuracy: 0.8567 - val_loss: 0.2680 - val_accuracy: 0.8986\n",
      "Epoch 2/10\n",
      "216/216 [==============================] - 71s 327ms/step - loss: 0.2476 - accuracy: 0.9060 - val_loss: 0.2318 - val_accuracy: 0.9108\n",
      "Epoch 3/10\n",
      "216/216 [==============================] - 71s 327ms/step - loss: 0.2373 - accuracy: 0.9105 - val_loss: 0.2302 - val_accuracy: 0.9096\n",
      "Epoch 4/10\n",
      "216/216 [==============================] - 71s 328ms/step - loss: 0.2327 - accuracy: 0.9140 - val_loss: 0.2378 - val_accuracy: 0.9050\n",
      "Epoch 5/10\n",
      "216/216 [==============================] - 70s 323ms/step - loss: 0.2149 - accuracy: 0.9166 - val_loss: 0.2168 - val_accuracy: 0.9108\n",
      "Epoch 6/10\n",
      "216/216 [==============================] - 69s 321ms/step - loss: 0.2004 - accuracy: 0.9213 - val_loss: 0.2128 - val_accuracy: 0.9102\n",
      "Epoch 7/10\n",
      "216/216 [==============================] - 70s 325ms/step - loss: 0.1920 - accuracy: 0.9219 - val_loss: 0.2474 - val_accuracy: 0.9027\n",
      "Epoch 8/10\n",
      "216/216 [==============================] - 71s 328ms/step - loss: 0.1839 - accuracy: 0.9247 - val_loss: 0.2267 - val_accuracy: 0.9171\n",
      "Epoch 9/10\n",
      "216/216 [==============================] - 71s 328ms/step - loss: 0.1690 - accuracy: 0.9302 - val_loss: 0.2412 - val_accuracy: 0.9061\n",
      "Epoch 10/10\n",
      "216/216 [==============================] - 71s 330ms/step - loss: 0.1591 - accuracy: 0.9342 - val_loss: 0.2428 - val_accuracy: 0.9021\n",
      "54/54 [==============================] - 4s 77ms/step - loss: 0.2428 - accuracy: 0.9021\n",
      "Test Accuracy: 90.21%\n"
     ]
    }
   ],
   "source": [
    "# Early Stopping\n",
    "early_stopping = EarlyStopping(monitor='val_loss', patience=5, restore_best_weights=True)\n",
    "\n",
    "# Train the Model\n",
    "history = model.fit(X_train, y_train, epochs=10, batch_size=32, validation_data=(X_test, y_test), callbacks=[early_stopping])\n",
    "\n",
    "# Evaluate the Model\n",
    "accuracy = model.evaluate(X_test, y_test)[1]\n",
    "print(f'Test Accuracy: {accuracy * 100:.2f}%')\n"
   ]
  },
  {
   "cell_type": "code",
   "execution_count": 19,
   "metadata": {},
   "outputs": [
    {
     "name": "stdout",
     "output_type": "stream",
     "text": [
      "13/13 [==============================] - 0s 26ms/step\n",
      "Classification Report:\n",
      "              precision    recall  f1-score   support\n",
      "\n",
      "           0       0.96      0.88      0.92       210\n",
      "           1       0.88      0.96      0.92       196\n",
      "\n",
      "    accuracy                           0.92       406\n",
      "   macro avg       0.92      0.92      0.92       406\n",
      "weighted avg       0.92      0.92      0.92       406\n",
      "\n"
     ]
    }
   ],
   "source": [
    "# Display additional metrics\n",
    "y_pred = model.predict(X_test)\n",
    "y_pred_binary = (y_pred > 0.5).astype(int)\n",
    "\n",
    "print(\"Classification Report:\")\n",
    "print(classification_report(y_test, y_pred_binary))"
   ]
  },
  {
   "cell_type": "code",
   "execution_count": 21,
   "metadata": {},
   "outputs": [],
   "source": [
    "import pickle\n",
    "path_names = '/home/smmrrr/Fog_Imaging_Project/Fog_Project_Code/datasets/edge_detection_unlabeled_photos_name_index.pkl'\n",
    "path = '/home/smmrrr/Fog_Imaging_Project/Fog_Project_Code/datasets/edge_detection_unlabeled_photos.pkl'\n",
    "\n",
    "with open(path_names, 'rb') as f:\n",
    "    names_all_photos = pickle.load(f)\n",
    "with open(path, 'rb') as f:\n",
    "    all_photos = pickle.load(f)\n"
   ]
  },
  {
   "cell_type": "code",
   "execution_count": 22,
   "metadata": {},
   "outputs": [
    {
     "data": {
      "text/plain": [
       "(22831, 100, 100, 4)"
      ]
     },
     "execution_count": 22,
     "metadata": {},
     "output_type": "execute_result"
    }
   ],
   "source": [
    "all_photos = np.array(all_photos)\n",
    "all_photos.shape"
   ]
  },
  {
   "cell_type": "code",
   "execution_count": 30,
   "metadata": {},
   "outputs": [],
   "source": [
    "all_photos = all_photos / 255.0"
   ]
  },
  {
   "cell_type": "code",
   "execution_count": 23,
   "metadata": {},
   "outputs": [
    {
     "data": {
      "text/plain": [
       "(1624, 100, 100, 4)"
      ]
     },
     "execution_count": 23,
     "metadata": {},
     "output_type": "execute_result"
    }
   ],
   "source": [
    "X_train.shape"
   ]
  },
  {
   "cell_type": "code",
   "execution_count": 28,
   "metadata": {},
   "outputs": [
    {
     "data": {
      "text/plain": [
       "array([[[[0.43529412, 0.44313726, 0.4392157 , 0.        ],\n",
       "         [0.45882353, 0.46666667, 0.4627451 , 1.        ],\n",
       "         [0.48235294, 0.49019608, 0.4862745 , 0.        ],\n",
       "         ...,\n",
       "         [0.4862745 , 0.5058824 , 0.52156866, 0.        ],\n",
       "         [0.47058824, 0.49019608, 0.5058824 , 0.        ],\n",
       "         [0.4509804 , 0.47058824, 0.4862745 , 0.        ]],\n",
       "\n",
       "        [[0.42745098, 0.43529412, 0.43137255, 0.        ],\n",
       "         [0.45882353, 0.46666667, 0.4627451 , 1.        ],\n",
       "         [0.48235294, 0.49019608, 0.4862745 , 0.        ],\n",
       "         ...,\n",
       "         [0.49019608, 0.50980395, 0.5254902 , 0.        ],\n",
       "         [0.47058824, 0.49019608, 0.5058824 , 0.        ],\n",
       "         [0.45490196, 0.4745098 , 0.49019608, 0.        ]],\n",
       "\n",
       "        [[0.4392157 , 0.44705883, 0.44313726, 0.        ],\n",
       "         [0.45882353, 0.46666667, 0.4627451 , 1.        ],\n",
       "         [0.4862745 , 0.49411765, 0.49019608, 0.        ],\n",
       "         ...,\n",
       "         [0.49019608, 0.50980395, 0.5254902 , 0.        ],\n",
       "         [0.4745098 , 0.49411765, 0.50980395, 0.        ],\n",
       "         [0.4627451 , 0.48235294, 0.49803922, 0.        ]],\n",
       "\n",
       "        ...,\n",
       "\n",
       "        [[0.3529412 , 0.30980393, 0.23921569, 0.        ],\n",
       "         [0.3764706 , 0.33333334, 0.2627451 , 1.        ],\n",
       "         [0.38039216, 0.3372549 , 0.26666668, 0.        ],\n",
       "         ...,\n",
       "         [0.47058824, 0.4117647 , 0.3372549 , 1.        ],\n",
       "         [0.42352942, 0.37254903, 0.30588236, 1.        ],\n",
       "         [0.40784314, 0.35686275, 0.2901961 , 0.        ]],\n",
       "\n",
       "        [[0.33333334, 0.29803923, 0.23137255, 1.        ],\n",
       "         [0.34901962, 0.3019608 , 0.23921569, 1.        ],\n",
       "         [0.36862746, 0.3254902 , 0.25490198, 1.        ],\n",
       "         ...,\n",
       "         [0.45490196, 0.39607844, 0.32156864, 0.        ],\n",
       "         [0.44313726, 0.39215687, 0.3254902 , 1.        ],\n",
       "         [0.41960785, 0.36862746, 0.3019608 , 1.        ]],\n",
       "\n",
       "        [[0.3254902 , 0.2901961 , 0.22352941, 0.        ],\n",
       "         [0.30980393, 0.27450982, 0.20784314, 0.        ],\n",
       "         [0.36862746, 0.3254902 , 0.25490198, 1.        ],\n",
       "         ...,\n",
       "         [0.44705883, 0.39607844, 0.32941177, 0.        ],\n",
       "         [0.4392157 , 0.3882353 , 0.32156864, 0.        ],\n",
       "         [0.43137255, 0.38039216, 0.3137255 , 0.        ]]],\n",
       "\n",
       "\n",
       "       [[[0.5058824 , 0.5058824 , 0.49803922, 0.        ],\n",
       "         [0.5176471 , 0.5176471 , 0.50980395, 0.        ],\n",
       "         [0.5294118 , 0.5294118 , 0.52156866, 0.        ],\n",
       "         ...,\n",
       "         [0.5568628 , 0.5647059 , 0.56078434, 0.        ],\n",
       "         [0.54509807, 0.5529412 , 0.54901963, 0.        ],\n",
       "         [0.5372549 , 0.54509807, 0.5411765 , 0.        ]],\n",
       "\n",
       "        [[0.5058824 , 0.5058824 , 0.49803922, 0.        ],\n",
       "         [0.5176471 , 0.5176471 , 0.50980395, 0.        ],\n",
       "         [0.5294118 , 0.5294118 , 0.52156866, 0.        ],\n",
       "         ...,\n",
       "         [0.5568628 , 0.5647059 , 0.56078434, 0.        ],\n",
       "         [0.54509807, 0.5529412 , 0.54901963, 0.        ],\n",
       "         [0.5372549 , 0.54509807, 0.5411765 , 0.        ]],\n",
       "\n",
       "        [[0.5058824 , 0.5058824 , 0.49803922, 0.        ],\n",
       "         [0.5176471 , 0.5176471 , 0.50980395, 0.        ],\n",
       "         [0.5294118 , 0.5294118 , 0.52156866, 0.        ],\n",
       "         ...,\n",
       "         [0.5568628 , 0.5647059 , 0.56078434, 0.        ],\n",
       "         [0.54509807, 0.5529412 , 0.54901963, 0.        ],\n",
       "         [0.5372549 , 0.54509807, 0.5411765 , 0.        ]],\n",
       "\n",
       "        ...,\n",
       "\n",
       "        [[0.30588236, 0.3254902 , 0.3019608 , 0.        ],\n",
       "         [0.30980393, 0.32941177, 0.30588236, 0.        ],\n",
       "         [0.32156864, 0.34117648, 0.3137255 , 0.        ],\n",
       "         ...,\n",
       "         [0.07450981, 0.09411765, 0.07058824, 0.        ],\n",
       "         [0.08235294, 0.10196079, 0.07450981, 0.        ],\n",
       "         [0.07450981, 0.09411765, 0.07058824, 0.        ]],\n",
       "\n",
       "        [[0.28235295, 0.3019608 , 0.2784314 , 0.        ],\n",
       "         [0.30980393, 0.32941177, 0.30588236, 0.        ],\n",
       "         [0.30588236, 0.3254902 , 0.3019608 , 1.        ],\n",
       "         ...,\n",
       "         [0.09019608, 0.11372549, 0.06666667, 0.        ],\n",
       "         [0.09803922, 0.11764706, 0.09019608, 0.        ],\n",
       "         [0.09019608, 0.10980392, 0.08235294, 0.        ]],\n",
       "\n",
       "        [[0.30588236, 0.3254902 , 0.3019608 , 1.        ],\n",
       "         [0.32156864, 0.34117648, 0.31764707, 1.        ],\n",
       "         [0.32156864, 0.34509805, 0.2901961 , 1.        ],\n",
       "         ...,\n",
       "         [0.10196079, 0.12156863, 0.10588235, 0.        ],\n",
       "         [0.10588235, 0.1254902 , 0.09803922, 0.        ],\n",
       "         [0.09019608, 0.10980392, 0.08235294, 0.        ]]],\n",
       "\n",
       "\n",
       "       [[[0.42745098, 0.44313726, 0.47843137, 0.        ],\n",
       "         [0.4745098 , 0.49019608, 0.5254902 , 0.        ],\n",
       "         [0.5058824 , 0.52156866, 0.5568628 , 0.        ],\n",
       "         ...,\n",
       "         [0.57254905, 0.6       , 0.6313726 , 0.        ],\n",
       "         [0.5372549 , 0.5647059 , 0.59607846, 0.        ],\n",
       "         [0.5058824 , 0.53333336, 0.5647059 , 0.        ]],\n",
       "\n",
       "        [[0.43529412, 0.4509804 , 0.4862745 , 0.        ],\n",
       "         [0.48235294, 0.49803922, 0.53333336, 0.        ],\n",
       "         [0.5176471 , 0.53333336, 0.5686275 , 0.        ],\n",
       "         ...,\n",
       "         [0.5686275 , 0.59607846, 0.627451  , 0.        ],\n",
       "         [0.54901963, 0.5764706 , 0.60784316, 0.        ],\n",
       "         [0.52156866, 0.54901963, 0.5803922 , 0.        ]],\n",
       "\n",
       "        [[0.44705883, 0.4627451 , 0.49803922, 0.        ],\n",
       "         [0.4862745 , 0.5019608 , 0.5372549 , 0.        ],\n",
       "         [0.52156866, 0.5372549 , 0.57254905, 0.        ],\n",
       "         ...,\n",
       "         [0.5764706 , 0.6039216 , 0.63529414, 0.        ],\n",
       "         [0.5529412 , 0.5803922 , 0.6117647 , 0.        ],\n",
       "         [0.5254902 , 0.5529412 , 0.58431375, 0.        ]],\n",
       "\n",
       "        ...,\n",
       "\n",
       "        [[0.24705882, 0.22352941, 0.16862746, 1.        ],\n",
       "         [0.2784314 , 0.26666668, 0.2       , 1.        ],\n",
       "         [0.25882354, 0.24705882, 0.18039216, 1.        ],\n",
       "         ...,\n",
       "         [0.3019608 , 0.28235295, 0.20392157, 1.        ],\n",
       "         [0.25882354, 0.23921569, 0.16078432, 1.        ],\n",
       "         [0.21176471, 0.19215687, 0.11372549, 0.        ]],\n",
       "\n",
       "        [[0.22352941, 0.2       , 0.14509805, 1.        ],\n",
       "         [0.25490198, 0.24313726, 0.1764706 , 0.        ],\n",
       "         [0.23137255, 0.21960784, 0.15294118, 1.        ],\n",
       "         ...,\n",
       "         [0.27450982, 0.25490198, 0.1764706 , 1.        ],\n",
       "         [0.20392157, 0.18431373, 0.10588235, 0.        ],\n",
       "         [0.24705882, 0.22745098, 0.14901961, 1.        ]],\n",
       "\n",
       "        [[0.19607843, 0.17254902, 0.11764706, 1.        ],\n",
       "         [0.23137255, 0.21960784, 0.15294118, 0.        ],\n",
       "         [0.19607843, 0.18431373, 0.11764706, 0.        ],\n",
       "         ...,\n",
       "         [0.20784314, 0.1882353 , 0.10980392, 0.        ],\n",
       "         [0.2509804 , 0.23137255, 0.15294118, 0.        ],\n",
       "         [0.25490198, 0.23529412, 0.15686275, 0.        ]]],\n",
       "\n",
       "\n",
       "       ...,\n",
       "\n",
       "\n",
       "       [[[0.49803922, 0.49803922, 0.49803922, 1.        ],\n",
       "         [0.48235294, 0.49803922, 0.50980395, 1.        ],\n",
       "         [0.48235294, 0.49803922, 0.50980395, 0.        ],\n",
       "         ...,\n",
       "         [0.5019608 , 0.5019608 , 0.49411765, 1.        ],\n",
       "         [0.49803922, 0.49803922, 0.49019608, 1.        ],\n",
       "         [0.49803922, 0.49803922, 0.49019608, 1.        ]],\n",
       "\n",
       "        [[0.5411765 , 0.5411765 , 0.5411765 , 0.        ],\n",
       "         [0.52156866, 0.5372549 , 0.54901963, 0.        ],\n",
       "         [0.5254902 , 0.5411765 , 0.5529412 , 1.        ],\n",
       "         ...,\n",
       "         [0.6745098 , 0.6745098 , 0.6666667 , 0.        ],\n",
       "         [0.67058825, 0.67058825, 0.6627451 , 0.        ],\n",
       "         [0.67058825, 0.67058825, 0.6627451 , 0.        ]],\n",
       "\n",
       "        [[0.53333336, 0.5411765 , 0.5372549 , 0.        ],\n",
       "         [0.5254902 , 0.5411765 , 0.54509807, 0.        ],\n",
       "         [0.5294118 , 0.54509807, 0.5568628 , 0.        ],\n",
       "         ...,\n",
       "         [0.6627451 , 0.67058825, 0.65882355, 0.        ],\n",
       "         [0.6666667 , 0.6666667 , 0.65882355, 0.        ],\n",
       "         [0.6666667 , 0.6666667 , 0.65882355, 0.        ]],\n",
       "\n",
       "        ...,\n",
       "\n",
       "        [[0.29411766, 0.29411766, 0.29411766, 0.        ],\n",
       "         [0.3019608 , 0.3019608 , 0.3019608 , 0.        ],\n",
       "         [0.29803923, 0.29803923, 0.29803923, 0.        ],\n",
       "         ...,\n",
       "         [0.34509805, 0.34509805, 0.34509805, 0.        ],\n",
       "         [0.34509805, 0.34509805, 0.34509805, 0.        ],\n",
       "         [0.34901962, 0.34901962, 0.34901962, 0.        ]],\n",
       "\n",
       "        [[0.28235295, 0.28235295, 0.28235295, 0.        ],\n",
       "         [0.29411766, 0.29411766, 0.28627452, 0.        ],\n",
       "         [0.28235295, 0.28627452, 0.26666668, 0.        ],\n",
       "         ...,\n",
       "         [0.34117648, 0.34117648, 0.34117648, 0.        ],\n",
       "         [0.34117648, 0.34117648, 0.34117648, 0.        ],\n",
       "         [0.34509805, 0.34509805, 0.34509805, 0.        ]],\n",
       "\n",
       "        [[0.28627452, 0.28627452, 0.28627452, 0.        ],\n",
       "         [0.2901961 , 0.29411766, 0.27450982, 0.        ],\n",
       "         [0.30588236, 0.30980393, 0.2901961 , 0.        ],\n",
       "         ...,\n",
       "         [0.34117648, 0.34117648, 0.34117648, 0.        ],\n",
       "         [0.34117648, 0.34117648, 0.34117648, 0.        ],\n",
       "         [0.34509805, 0.34509805, 0.34509805, 0.        ]]],\n",
       "\n",
       "\n",
       "       [[[0.5137255 , 0.57254905, 0.64705884, 0.        ],\n",
       "         [0.5411765 , 0.57254905, 0.6627451 , 0.        ],\n",
       "         [0.54509807, 0.5764706 , 0.6666667 , 0.        ],\n",
       "         ...,\n",
       "         [0.48235294, 0.5137255 , 0.6039216 , 0.        ],\n",
       "         [0.45882353, 0.5176471 , 0.5921569 , 0.        ],\n",
       "         [0.45882353, 0.5176471 , 0.5921569 , 0.        ]],\n",
       "\n",
       "        [[0.5137255 , 0.57254905, 0.64705884, 0.        ],\n",
       "         [0.5411765 , 0.57254905, 0.6627451 , 0.        ],\n",
       "         [0.54509807, 0.5764706 , 0.6666667 , 0.        ],\n",
       "         ...,\n",
       "         [0.48235294, 0.5137255 , 0.6039216 , 0.        ],\n",
       "         [0.45882353, 0.5176471 , 0.5921569 , 0.        ],\n",
       "         [0.45882353, 0.5176471 , 0.5921569 , 0.        ]],\n",
       "\n",
       "        [[0.5137255 , 0.57254905, 0.64705884, 0.        ],\n",
       "         [0.5254902 , 0.57254905, 0.65882355, 0.        ],\n",
       "         [0.5254902 , 0.57254905, 0.65882355, 0.        ],\n",
       "         ...,\n",
       "         [0.4745098 , 0.5176471 , 0.5882353 , 0.        ],\n",
       "         [0.4627451 , 0.52156866, 0.59607846, 0.        ],\n",
       "         [0.45882353, 0.5176471 , 0.5921569 , 0.        ]],\n",
       "\n",
       "        ...,\n",
       "\n",
       "        [[0.36078432, 0.36078432, 0.36078432, 0.        ],\n",
       "         [0.36078432, 0.36078432, 0.36078432, 0.        ],\n",
       "         [0.3647059 , 0.3647059 , 0.3647059 , 0.        ],\n",
       "         ...,\n",
       "         [0.42745098, 0.42352942, 0.40784314, 0.        ],\n",
       "         [0.39607844, 0.39215687, 0.3764706 , 0.        ],\n",
       "         [0.39215687, 0.3882353 , 0.37254903, 0.        ]],\n",
       "\n",
       "        [[0.35686275, 0.35686275, 0.35686275, 0.        ],\n",
       "         [0.36078432, 0.36078432, 0.36078432, 0.        ],\n",
       "         [0.36078432, 0.36078432, 0.36078432, 0.        ],\n",
       "         ...,\n",
       "         [0.39607844, 0.39215687, 0.3764706 , 0.        ],\n",
       "         [0.39215687, 0.3882353 , 0.37254903, 0.        ],\n",
       "         [0.3882353 , 0.38431373, 0.36862746, 0.        ]],\n",
       "\n",
       "        [[0.35686275, 0.35686275, 0.35686275, 0.        ],\n",
       "         [0.36078432, 0.36078432, 0.36078432, 0.        ],\n",
       "         [0.36078432, 0.36078432, 0.36078432, 0.        ],\n",
       "         ...,\n",
       "         [0.39215687, 0.3882353 , 0.37254903, 0.        ],\n",
       "         [0.39215687, 0.3882353 , 0.37254903, 0.        ],\n",
       "         [0.3882353 , 0.38431373, 0.36862746, 0.        ]]],\n",
       "\n",
       "\n",
       "       [[[0.46666667, 0.47843137, 0.5137255 , 1.        ],\n",
       "         [0.47843137, 0.5058824 , 0.5372549 , 0.        ],\n",
       "         [0.45882353, 0.4862745 , 0.5176471 , 1.        ],\n",
       "         ...,\n",
       "         [0.48235294, 0.50980395, 0.5411765 , 1.        ],\n",
       "         [0.45882353, 0.4862745 , 0.5176471 , 1.        ],\n",
       "         [0.49019608, 0.5176471 , 0.54901963, 1.        ]],\n",
       "\n",
       "        [[0.50980395, 0.52156866, 0.5568628 , 0.        ],\n",
       "         [0.50980395, 0.5372549 , 0.5686275 , 1.        ],\n",
       "         [0.50980395, 0.5372549 , 0.5686275 , 0.        ],\n",
       "         ...,\n",
       "         [0.52156866, 0.54901963, 0.5803922 , 0.        ],\n",
       "         [0.5176471 , 0.54509807, 0.5764706 , 0.        ],\n",
       "         [0.5137255 , 0.5411765 , 0.57254905, 0.        ]],\n",
       "\n",
       "        [[0.5137255 , 0.5294118 , 0.5647059 , 0.        ],\n",
       "         [0.50980395, 0.5372549 , 0.5686275 , 0.        ],\n",
       "         [0.50980395, 0.5372549 , 0.5686275 , 0.        ],\n",
       "         ...,\n",
       "         [0.5176471 , 0.54509807, 0.5764706 , 0.        ],\n",
       "         [0.5176471 , 0.54509807, 0.5764706 , 0.        ],\n",
       "         [0.5137255 , 0.5411765 , 0.57254905, 0.        ]],\n",
       "\n",
       "        ...,\n",
       "\n",
       "        [[0.4509804 , 0.42745098, 0.38039216, 0.        ],\n",
       "         [0.44705883, 0.42352942, 0.3764706 , 0.        ],\n",
       "         [0.4392157 , 0.41568628, 0.36862746, 0.        ],\n",
       "         ...,\n",
       "         [0.47058824, 0.44313726, 0.40392157, 1.        ],\n",
       "         [0.31764707, 0.2901961 , 0.2509804 , 0.        ],\n",
       "         [0.47058824, 0.44705883, 0.4       , 1.        ]],\n",
       "\n",
       "        [[0.44313726, 0.41960785, 0.37254903, 0.        ],\n",
       "         [0.43137255, 0.40784314, 0.36078432, 0.        ],\n",
       "         [0.4392157 , 0.41568628, 0.36862746, 0.        ],\n",
       "         ...,\n",
       "         [0.3882353 , 0.36078432, 0.32156864, 0.        ],\n",
       "         [0.37254903, 0.34509805, 0.30588236, 0.        ],\n",
       "         [0.47843137, 0.4509804 , 0.4117647 , 1.        ]],\n",
       "\n",
       "        [[0.4509804 , 0.42745098, 0.38039216, 0.        ],\n",
       "         [0.4392157 , 0.41568628, 0.36862746, 0.        ],\n",
       "         [0.44313726, 0.41960785, 0.37254903, 0.        ],\n",
       "         ...,\n",
       "         [0.38431373, 0.34901962, 0.32156864, 0.        ],\n",
       "         [0.38039216, 0.34509805, 0.31764707, 0.        ],\n",
       "         [0.36862746, 0.33333334, 0.30588236, 0.        ]]]],\n",
       "      dtype=float32)"
      ]
     },
     "execution_count": 28,
     "metadata": {},
     "output_type": "execute_result"
    }
   ],
   "source": [
    "X_train"
   ]
  },
  {
   "cell_type": "code",
   "execution_count": 31,
   "metadata": {},
   "outputs": [
    {
     "name": "stdout",
     "output_type": "stream",
     "text": [
      "714/714 [==============================] - 12s 17ms/step\n"
     ]
    }
   ],
   "source": [
    "#####does the model make sense when run on all photos?\n",
    "\n",
    "results = model.predict(all_photos)"
   ]
  },
  {
   "cell_type": "code",
   "execution_count": 32,
   "metadata": {},
   "outputs": [
    {
     "data": {
      "text/plain": [
       "0.2426616"
      ]
     },
     "execution_count": 32,
     "metadata": {},
     "output_type": "execute_result"
    }
   ],
   "source": [
    "results.mean()"
   ]
  },
  {
   "cell_type": "code",
   "execution_count": 27,
   "metadata": {},
   "outputs": [
    {
     "name": "stdout",
     "output_type": "stream",
     "text": [
      "Keras weights file (<HDF5 file \"variables.h5\" (mode r+)>) saving:\n",
      "...layers\n",
      "......conv2d\n",
      ".........vars\n",
      "............0\n",
      "............1\n",
      "......conv2d_1\n",
      ".........vars\n",
      "............0\n",
      "............1\n",
      "......conv2d_2\n",
      ".........vars\n",
      "............0\n",
      "............1\n",
      "......dense\n",
      ".........vars\n",
      "............0\n",
      "............1\n",
      "......dense_1\n",
      ".........vars\n",
      "............0\n",
      "............1\n",
      "......flatten\n",
      ".........vars\n",
      "......max_pooling2d\n",
      ".........vars\n",
      "......max_pooling2d_1\n",
      ".........vars\n",
      "......max_pooling2d_2\n",
      ".........vars\n",
      "...metrics\n",
      "......mean\n",
      ".........vars\n",
      "............0\n",
      "............1\n",
      "......mean_metric_wrapper\n",
      ".........vars\n",
      "............0\n",
      "............1\n",
      "...optimizer\n",
      "......vars\n",
      ".........0\n",
      ".........1\n",
      ".........10\n",
      ".........11\n",
      ".........12\n",
      ".........13\n",
      ".........14\n",
      ".........15\n",
      ".........16\n",
      ".........17\n",
      ".........18\n",
      ".........19\n",
      ".........2\n",
      ".........20\n",
      ".........3\n",
      ".........4\n",
      ".........5\n",
      ".........6\n",
      ".........7\n",
      ".........8\n",
      ".........9\n",
      "...vars\n",
      "Keras model archive saving:\n",
      "File Name                                             Modified             Size\n",
      "metadata.json                                  2024-01-23 18:26:08           64\n",
      "config.json                                    2024-01-23 18:26:08         4256\n",
      "variables.h5                                   2024-01-23 18:26:08     20825600\n"
     ]
    }
   ],
   "source": [
    "filename = 'edge_detection.sav'\n",
    "pickle.dump(model, open(filename, 'wb'))\n",
    "model.save('cnn_edgedetection.keras')  # The file needs to end with the .keras extension\n"
   ]
  },
  {
   "cell_type": "code",
   "execution_count": 15,
   "metadata": {},
   "outputs": [],
   "source": [
    "def plot_confusion_matrix(y_test, y_test_pred, model_name):\n",
    "    test_confusion_matrix = confusion_matrix(y_test, y_test_pred)\n",
    "    group_names = ['True Negative (TN)', 'False Positive (FP)',\n",
    "                'False Negative (FN)', 'True Positive (TP)']\n",
    "    group_counts = [\"{0:0.0f}\".format(value) for value in test_confusion_matrix.flatten()]\n",
    "    group_percentages = [\"{0:.2%}\".format(value) for value in test_confusion_matrix.flatten()/np.sum(test_confusion_matrix)]\n",
    "\n",
    "    labels = [f\"{v1}\\n{v2}\\n{v3}\" for v1, v2, v3 in zip(group_names, group_counts, group_percentages)]\n",
    "    labels = np.asarray(labels).reshape(2,2)\n",
    "\n",
    "    # Creating the heatmap\n",
    "    plt.figure(figsize=(10,7))\n",
    "    sns.heatmap(test_confusion_matrix, annot=labels, fmt='', cmap='Blues')\n",
    "    plt.title(\"Confusion Matrix for \"+ model_name+ \" (using Test Set)\")\n",
    "    plt.ylabel('True label')\n",
    "    plt.xlabel('Predicted label')\n",
    "\n",
    "    plt.show()"
   ]
  },
  {
   "cell_type": "code",
   "execution_count": 16,
   "metadata": {},
   "outputs": [
    {
     "data": {
      "image/png": "[encoded data removed]",
      "text/plain": [
       "<Figure size 720x504 with 2 Axes>"
      ]
     },
     "metadata": {
      "needs_background": "light"
     },
     "output_type": "display_data"
    }
   ],
   "source": [
    "# Confusion Matrix\n",
    "import seaborn as sns\n",
    "\n",
    "plot_confusion_matrix(y_test, y_pred_binary, \"CNN\")\n"
   ]
  },
  {
   "cell_type": "code",
   "execution_count": 39,
   "metadata": {},
   "outputs": [],
   "source": [
    "# ROC Curve\n",
    "fpr, tpr, _ = roc_curve(y_test, y_pred)\n",
    "roc_auc = auc(fpr, tpr)"
   ]
  },
  {
   "cell_type": "code",
   "execution_count": 40,
   "metadata": {},
   "outputs": [],
   "source": [
    "# Precision-Recall Curve\n",
    "precision, recall, _ = precision_recall_curve(y_test, y_pred)\n",
    "pr_auc = auc(recall, precision)"
   ]
  },
  {
   "cell_type": "code",
   "execution_count": 41,
   "metadata": {},
   "outputs": [
    {
     "data": {
      "image/png": "[encoded data removed]",
      "text/plain": [
       "<Figure size 576x576 with 1 Axes>"
      ]
     },
     "metadata": {
      "needs_background": "light"
     },
     "output_type": "display_data"
    }
   ],
   "source": [
    "# Plot ROC Curve\n",
    "plt.figure(figsize=(8, 8))\n",
    "plt.plot(fpr, tpr, color='darkorange', lw=2, label=f'AUC = {roc_auc:.2f}')\n",
    "plt.plot([0, 1], [0, 1], color='navy', lw=2, linestyle='--')\n",
    "plt.xlabel('False Positive Rate')\n",
    "plt.ylabel('True Positive Rate')\n",
    "plt.title('Receiver Operating Characteristic (ROC) Curve')\n",
    "plt.legend(loc='lower right')\n",
    "plt.show()"
   ]
  },
  {
   "cell_type": "code",
   "execution_count": 42,
   "metadata": {},
   "outputs": [
    {
     "data": {
      "image/png": "[encoded data removed]",
      "text/plain": [
       "<Figure size 576x576 with 1 Axes>"
      ]
     },
     "metadata": {
      "needs_background": "light"
     },
     "output_type": "display_data"
    }
   ],
   "source": [
    "# Plot Precision-Recall Curve\n",
    "plt.figure(figsize=(8, 8))\n",
    "plt.plot(recall, precision, color='blue', lw=2, label=f'AUC = {pr_auc:.2f}')\n",
    "plt.xlabel('Recall')\n",
    "plt.ylabel('Precision')\n",
    "plt.title('Precision-Recall Curve')\n",
    "plt.legend(loc='lower right')\n",
    "plt.show()"
   ]
  },
  {
   "cell_type": "code",
   "execution_count": 43,
   "metadata": {},
   "outputs": [
    {
     "ename": "KeyboardInterrupt",
     "evalue": "",
     "output_type": "error",
     "traceback": [
      "\u001b[0;31m---------------------------------------------------------------------------\u001b[0m",
      "\u001b[0;31mKeyboardInterrupt\u001b[0m                         Traceback (most recent call last)",
      "\u001b[0;32m/tmp/ipykernel_3427369/3053923361.py\u001b[0m in \u001b[0;36m<cell line: 8>\u001b[0;34m()\u001b[0m\n\u001b[1;32m      8\u001b[0m \u001b[0;32mfor\u001b[0m \u001b[0mindex\u001b[0m\u001b[0;34m,\u001b[0m \u001b[0mrow\u001b[0m \u001b[0;32min\u001b[0m \u001b[0mlinks_and_labels_loop\u001b[0m\u001b[0;34m.\u001b[0m\u001b[0miterrows\u001b[0m\u001b[0;34m(\u001b[0m\u001b[0;34m)\u001b[0m\u001b[0;34m:\u001b[0m\u001b[0;34m\u001b[0m\u001b[0;34m\u001b[0m\u001b[0m\n\u001b[1;32m      9\u001b[0m     \u001b[0mimg_path\u001b[0m \u001b[0;34m=\u001b[0m \u001b[0mos\u001b[0m\u001b[0;34m.\u001b[0m\u001b[0mpath\u001b[0m\u001b[0;34m.\u001b[0m\u001b[0mjoin\u001b[0m\u001b[0;34m(\u001b[0m\u001b[0mimage_dir\u001b[0m\u001b[0;34m,\u001b[0m \u001b[0mrow\u001b[0m\u001b[0;34m[\u001b[0m\u001b[0;34m'photo'\u001b[0m\u001b[0;34m]\u001b[0m\u001b[0;34m)\u001b[0m\u001b[0;34m\u001b[0m\u001b[0;34m\u001b[0m\u001b[0m\n\u001b[0;32m---> 10\u001b[0;31m     \u001b[0mimg\u001b[0m \u001b[0;34m=\u001b[0m \u001b[0mload_img\u001b[0m\u001b[0;34m(\u001b[0m\u001b[0mimg_path\u001b[0m\u001b[0;34m,\u001b[0m \u001b[0mtarget_size\u001b[0m\u001b[0;34m=\u001b[0m\u001b[0;34m(\u001b[0m\u001b[0;36m100\u001b[0m\u001b[0;34m,\u001b[0m \u001b[0;36m100\u001b[0m\u001b[0;34m)\u001b[0m\u001b[0;34m)\u001b[0m  \u001b[0;31m# Specify the target size of your images\u001b[0m\u001b[0;34m\u001b[0m\u001b[0;34m\u001b[0m\u001b[0m\n\u001b[0m\u001b[1;32m     11\u001b[0m     \u001b[0mimg_array\u001b[0m \u001b[0;34m=\u001b[0m \u001b[0mimg_to_array\u001b[0m\u001b[0;34m(\u001b[0m\u001b[0mimg\u001b[0m\u001b[0;34m)\u001b[0m\u001b[0;34m\u001b[0m\u001b[0;34m\u001b[0m\u001b[0m\n\u001b[1;32m     12\u001b[0m \u001b[0;34m\u001b[0m\u001b[0m\n",
      "\u001b[0;32m~/miniconda3/envs/condaforge/lib/python3.10/site-packages/keras/utils/image_utils.py\u001b[0m in \u001b[0;36mload_img\u001b[0;34m(path, grayscale, color_mode, target_size, interpolation, keep_aspect_ratio)\u001b[0m\n\u001b[1;32m    421\u001b[0m             \u001b[0mpath\u001b[0m \u001b[0;34m=\u001b[0m \u001b[0mstr\u001b[0m\u001b[0;34m(\u001b[0m\u001b[0mpath\u001b[0m\u001b[0;34m.\u001b[0m\u001b[0mresolve\u001b[0m\u001b[0;34m(\u001b[0m\u001b[0;34m)\u001b[0m\u001b[0;34m)\u001b[0m\u001b[0;34m\u001b[0m\u001b[0;34m\u001b[0m\u001b[0m\n\u001b[1;32m    422\u001b[0m         \u001b[0;32mwith\u001b[0m \u001b[0mopen\u001b[0m\u001b[0;34m(\u001b[0m\u001b[0mpath\u001b[0m\u001b[0;34m,\u001b[0m \u001b[0;34m\"rb\"\u001b[0m\u001b[0;34m)\u001b[0m \u001b[0;32mas\u001b[0m \u001b[0mf\u001b[0m\u001b[0;34m:\u001b[0m\u001b[0;34m\u001b[0m\u001b[0;34m\u001b[0m\u001b[0m\n\u001b[0;32m--> 423\u001b[0;31m             \u001b[0mimg\u001b[0m \u001b[0;34m=\u001b[0m \u001b[0mpil_image\u001b[0m\u001b[0;34m.\u001b[0m\u001b[0mopen\u001b[0m\u001b[0;34m(\u001b[0m\u001b[0mio\u001b[0m\u001b[0;34m.\u001b[0m\u001b[0mBytesIO\u001b[0m\u001b[0;34m(\u001b[0m\u001b[0mf\u001b[0m\u001b[0;34m.\u001b[0m\u001b[0mread\u001b[0m\u001b[0;34m(\u001b[0m\u001b[0;34m)\u001b[0m\u001b[0;34m)\u001b[0m\u001b[0;34m)\u001b[0m\u001b[0;34m\u001b[0m\u001b[0;34m\u001b[0m\u001b[0m\n\u001b[0m\u001b[1;32m    424\u001b[0m     \u001b[0;32melse\u001b[0m\u001b[0;34m:\u001b[0m\u001b[0;34m\u001b[0m\u001b[0;34m\u001b[0m\u001b[0m\n\u001b[1;32m    425\u001b[0m         raise TypeError(\n",
      "\u001b[0;31mKeyboardInterrupt\u001b[0m: "
     ]
    }
   ],
   "source": [
    "links_and_labels_loop = pd.read_csv('/home/smmrrr/Fog_Imaging_Project/Fog_Project_Code/unlabeled_photos_for_model.csv')\n",
    "image_dir = '/home/smmrrr/surfline/'\n",
    "\n",
    "# Load images and labels\n",
    "data = []\n",
    "labels = []\n",
    "\n",
    "for index, row in links_and_labels_loop.iterrows():\n",
    "    img_path = os.path.join(image_dir, row['photo'])\n",
    "    img = load_img(img_path, target_size=(100, 100))  # Specify the target size of your images\n",
    "    img_array = img_to_array(img)\n",
    "\n",
    "    # Edge detection using Canny algorithm\n",
    "    gray_image = cv2.cvtColor(img_array.astype('uint8'), cv2.COLOR_RGB2GRAY)\n",
    "    edges = cv2.Canny(gray_image, threshold1=30, threshold2=100)\n",
    "\n",
    "    # Stack the original image and edges as input\n",
    "    img_with_edges = np.dstack([img_array, edges])\n",
    "    \n",
    "    data.append(img_with_edges)\n",
    "    labels.append(row['photo'])"
   ]
  }
 ],
 "metadata": {
  "kernelspec": {
   "display_name": "condaforge",
   "language": "python",
   "name": "condaforge"
  },
  "language_info": {
   "codemirror_mode": {
    "name": "ipython",
    "version": 3
   },
   "file_extension": ".py",
   "mimetype": "text/x-python",
   "name": "python",
   "nbconvert_exporter": "python",
   "pygments_lexer": "ipython3",
   "version": "3.10.6"
  }
 },
 "nbformat": 4,
 "nbformat_minor": 4
}

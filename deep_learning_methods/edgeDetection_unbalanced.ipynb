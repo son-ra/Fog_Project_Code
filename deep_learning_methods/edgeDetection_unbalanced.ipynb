{
 "cells": [
  {
   "cell_type": "code",
   "execution_count": 1,
   "metadata": {},
   "outputs": [
    {
     "name": "stdout",
     "output_type": "stream",
     "text": [
      "Requirement already satisfied: opencv-python in /home/smmrrr/miniconda3/envs/condaforge/lib/python3.10/site-packages (4.7.0.68)\n",
      "Requirement already satisfied: numpy>=1.21.2 in /home/smmrrr/miniconda3/envs/condaforge/lib/python3.10/site-packages (from opencv-python) (1.24.2)\n",
      "\n",
      "\u001b[1m[\u001b[0m\u001b[34;49mnotice\u001b[0m\u001b[1;39;49m]\u001b[0m\u001b[39;49m A new release of pip is available: \u001b[0m\u001b[31;49m23.3.1\u001b[0m\u001b[39;49m -> \u001b[0m\u001b[32;49m23.3.2\u001b[0m\n",
      "\u001b[1m[\u001b[0m\u001b[34;49mnotice\u001b[0m\u001b[1;39;49m]\u001b[0m\u001b[39;49m To update, run: \u001b[0m\u001b[32;49mpip install --upgrade pip\u001b[0m\n",
      "Note: you may need to restart the kernel to use updated packages.\n"
     ]
    }
   ],
   "source": [
    "%pip install opencv-python"
   ]
  },
  {
   "cell_type": "code",
   "execution_count": 1,
   "metadata": {},
   "outputs": [
    {
     "name": "stderr",
     "output_type": "stream",
     "text": [
      "2024-01-23 16:44:45.429806: I tensorflow/core/platform/cpu_feature_guard.cc:193] This TensorFlow binary is optimized with oneAPI Deep Neural Network Library (oneDNN) to use the following CPU instructions in performance-critical operations:  SSE4.1 SSE4.2 AVX AVX2 FMA\n",
      "To enable them in other operations, rebuild TensorFlow with the appropriate compiler flags.\n"
     ]
    }
   ],
   "source": [
    "import os\n",
    "import numpy as np\n",
    "import pandas as pd\n",
    "from sklearn.model_selection import train_test_split\n",
    "from sklearn.preprocessing import LabelEncoder\n",
    "from tensorflow.keras.preprocessing.image import load_img, img_to_array\n",
    "from tensorflow.keras.utils import to_categorical\n",
    "from tensorflow.keras.models import Sequential\n",
    "from tensorflow.keras.layers import Conv2D, MaxPooling2D, Flatten, Dense\n",
    "from tensorflow.keras.optimizers import Adam\n",
    "from tensorflow.keras.callbacks import EarlyStopping\n",
    "import cv2\n",
    "from sklearn.metrics import classification_report, confusion_matrix, roc_auc_score, roc_curve, precision_recall_curve, auc\n",
    "import matplotlib.pyplot as plt\n",
    "from sklearn.metrics import roc_curve, auc"
   ]
  },
  {
   "cell_type": "code",
   "execution_count": 28,
   "metadata": {},
   "outputs": [],
   "source": [
    "# Load labels file\n",
    "df = pd.read_csv('/home/smmrrr/Fog_Imaging_Project/Fog_Project_Code/datasets/fog_aware_stats_new_labels.csv')\n",
    "df = df[['photo', 'Label_new','Label_train']]\n",
    "# Set image directory\n",
    "img_dir = '/home/smmrrr/Fog_Imaging_Project/sta_221/all_surfline_photos/'"
   ]
  },
  {
   "cell_type": "code",
   "execution_count": 29,
   "metadata": {},
   "outputs": [
    {
     "name": "stdout",
     "output_type": "stream",
     "text": [
      "Label Counts:\n",
      "not_foggy    6981\n",
      "foggy        1015\n",
      "Name: Label_new, dtype: int64\n"
     ]
    }
   ],
   "source": [
    "label_counts = df['Label_new'].value_counts()\n",
    "\n",
    "print(\"Label Counts:\")\n",
    "print(label_counts)"
   ]
  },
  {
   "cell_type": "code",
   "execution_count": 27,
   "metadata": {},
   "outputs": [
    {
     "data": {
      "text/plain": [
       "0.14539464260134652"
      ]
     },
     "execution_count": 27,
     "metadata": {},
     "output_type": "execute_result"
    }
   ],
   "source": [
    "1015/6981"
   ]
  },
  {
   "cell_type": "code",
   "execution_count": 4,
   "metadata": {},
   "outputs": [
    {
     "data": {
      "text/plain": [
       "not_foggy    6981\n",
       "foggy        1015\n",
       "Name: Label_new, dtype: int64"
      ]
     },
     "execution_count": 4,
     "metadata": {},
     "output_type": "execute_result"
    }
   ],
   "source": [
    "label_counts"
   ]
  },
  {
   "cell_type": "code",
   "execution_count": 13,
   "metadata": {},
   "outputs": [
    {
     "data": {
      "text/html": [
       "<div>\n",
       "<style scoped>\n",
       "    .dataframe tbody tr th:only-of-type {\n",
       "        vertical-align: middle;\n",
       "    }\n",
       "\n",
       "    .dataframe tbody tr th {\n",
       "        vertical-align: top;\n",
       "    }\n",
       "\n",
       "    .dataframe thead th {\n",
       "        text-align: right;\n",
       "    }\n",
       "</style>\n",
       "<table border=\"1\" class=\"dataframe\">\n",
       "  <thead>\n",
       "    <tr style=\"text-align: right;\">\n",
       "      <th></th>\n",
       "      <th>photo</th>\n",
       "      <th>Label_new</th>\n",
       "      <th>Label_train</th>\n",
       "    </tr>\n",
       "  </thead>\n",
       "  <tbody>\n",
       "    <tr>\n",
       "      <th>0</th>\n",
       "      <td>2022_07-04.0000_agatebeachor.jpg</td>\n",
       "      <td>not_foggy</td>\n",
       "      <td>0</td>\n",
       "    </tr>\n",
       "    <tr>\n",
       "      <th>1</th>\n",
       "      <td>2022_07-04.0000_otterrockor.jpg</td>\n",
       "      <td>not_foggy</td>\n",
       "      <td>0</td>\n",
       "    </tr>\n",
       "    <tr>\n",
       "      <th>2</th>\n",
       "      <td>2022_07-04.0700_agatebeachor.jpg</td>\n",
       "      <td>not_foggy</td>\n",
       "      <td>0</td>\n",
       "    </tr>\n",
       "    <tr>\n",
       "      <th>3</th>\n",
       "      <td>2022_07-04.0730_agatebeachor.jpg</td>\n",
       "      <td>not_foggy</td>\n",
       "      <td>0</td>\n",
       "    </tr>\n",
       "    <tr>\n",
       "      <th>4</th>\n",
       "      <td>2022_07-04.0730_otterrockor.jpg</td>\n",
       "      <td>not_foggy</td>\n",
       "      <td>0</td>\n",
       "    </tr>\n",
       "    <tr>\n",
       "      <th>...</th>\n",
       "      <td>...</td>\n",
       "      <td>...</td>\n",
       "      <td>...</td>\n",
       "    </tr>\n",
       "    <tr>\n",
       "      <th>7991</th>\n",
       "      <td>2023_09-30.1900_agatebeachor.jpg</td>\n",
       "      <td>not_foggy</td>\n",
       "      <td>0</td>\n",
       "    </tr>\n",
       "    <tr>\n",
       "      <th>7992</th>\n",
       "      <td>2023_09-30.1930_cannonbeach.jpg</td>\n",
       "      <td>not_foggy</td>\n",
       "      <td>0</td>\n",
       "    </tr>\n",
       "    <tr>\n",
       "      <th>7993</th>\n",
       "      <td>2023_09-30.2000_otterrockor.jpg</td>\n",
       "      <td>not_foggy</td>\n",
       "      <td>0</td>\n",
       "    </tr>\n",
       "    <tr>\n",
       "      <th>7994</th>\n",
       "      <td>2023_09-30.2030_otterrockor.jpg</td>\n",
       "      <td>not_foggy</td>\n",
       "      <td>0</td>\n",
       "    </tr>\n",
       "    <tr>\n",
       "      <th>7995</th>\n",
       "      <td>2023_09-30.2100_pacificcityor.jpg</td>\n",
       "      <td>not_foggy</td>\n",
       "      <td>0</td>\n",
       "    </tr>\n",
       "  </tbody>\n",
       "</table>\n",
       "<p>7996 rows × 3 columns</p>\n",
       "</div>"
      ],
      "text/plain": [
       "                                  photo  Label_new  Label_train\n",
       "0      2022_07-04.0000_agatebeachor.jpg  not_foggy            0\n",
       "1       2022_07-04.0000_otterrockor.jpg  not_foggy            0\n",
       "2      2022_07-04.0700_agatebeachor.jpg  not_foggy            0\n",
       "3      2022_07-04.0730_agatebeachor.jpg  not_foggy            0\n",
       "4       2022_07-04.0730_otterrockor.jpg  not_foggy            0\n",
       "...                                 ...        ...          ...\n",
       "7991   2023_09-30.1900_agatebeachor.jpg  not_foggy            0\n",
       "7992    2023_09-30.1930_cannonbeach.jpg  not_foggy            0\n",
       "7993    2023_09-30.2000_otterrockor.jpg  not_foggy            0\n",
       "7994    2023_09-30.2030_otterrockor.jpg  not_foggy            0\n",
       "7995  2023_09-30.2100_pacificcityor.jpg  not_foggy            0\n",
       "\n",
       "[7996 rows x 3 columns]"
      ]
     },
     "metadata": {},
     "output_type": "display_data"
    }
   ],
   "source": [
    "display(df)"
   ]
  },
  {
   "cell_type": "code",
   "execution_count": 30,
   "metadata": {},
   "outputs": [
    {
     "data": {
      "text/plain": [
       "5966"
      ]
     },
     "execution_count": 30,
     "metadata": {},
     "output_type": "execute_result"
    }
   ],
   "source": [
    "label_counts.loc['not_foggy'] - label_counts.loc['foggy']"
   ]
  },
  {
   "cell_type": "code",
   "execution_count": 6,
   "metadata": {},
   "outputs": [
    {
     "name": "stdout",
     "output_type": "stream",
     "text": [
      "                                  photo  Label_new  Label_train\n",
      "4       2022_07-04.0730_otterrockor.jpg  not_foggy            0\n",
      "9       2022_07-04.0830_otterrockor.jpg  not_foggy            0\n",
      "16    2022_07-04.0930_lincolncityor.jpg  not_foggy            0\n",
      "34      2022_07-04.1300_otterrockor.jpg  not_foggy            0\n",
      "55      2022_07-04.1700_otterrockor.jpg  not_foggy            0\n",
      "...                                 ...        ...          ...\n",
      "7969    2023_09-29.2100_cannonbeach.jpg  not_foggy            0\n",
      "7972  2023_09-30.1030_pacificcityor.jpg  not_foggy            0\n",
      "7980  2023_09-30.1300_lincolncityor.jpg  not_foggy            0\n",
      "7982    2023_09-30.1330_cannonbeach.jpg  not_foggy            0\n",
      "7986   2023_09-30.1600_agatebeachor.jpg  not_foggy            0\n",
      "\n",
      "[2030 rows x 3 columns]\n",
      "not_foggy    6981\n",
      "foggy        1015\n",
      "Name: Label_new, dtype: int64\n"
     ]
    }
   ],
   "source": [
    "\n",
    "# # Number of data points to drop from the \"non-foggy\" class\n",
    "# num_to_drop = label_counts.loc['not_foggy'] - label_counts.loc['foggy']\n",
    "\n",
    "# # Check if the number to drop is greater than the count of \"non-foggy\" class\n",
    "# if num_to_drop > label_counts[0]:\n",
    "#     print(\"Warning: The specified number of data points to drop is greater than the count of 'foggy' class.\")\n",
    "# else:\n",
    "#     # Randomly drop data points from the \"non-foggy\" class\n",
    "#     df_to_drop = df[df['Label_train'] == 0].sample(n=num_to_drop, random_state=42)\n",
    "#     df_filtered = df.drop(df_to_drop.index)\n",
    "\n",
    "#     # Display the resulting DataFrame\n",
    "#     print(df_filtered)\n",
    "#     print(label_counts)\n"
   ]
  },
  {
   "cell_type": "code",
   "execution_count": 32,
   "metadata": {},
   "outputs": [
    {
     "name": "stdout",
     "output_type": "stream",
     "text": [
      "Label Counts:\n",
      "0    6981\n",
      "1    1015\n",
      "Name: Label_train, dtype: int64\n"
     ]
    }
   ],
   "source": [
    "label_counts = df['Label_train'].value_counts()\n",
    "\n",
    "print(\"Label Counts:\")\n",
    "print(label_counts)"
   ]
  },
  {
   "cell_type": "code",
   "execution_count": 47,
   "metadata": {},
   "outputs": [],
   "source": [
    "# Load images and labels\n",
    "data = []\n",
    "labels = []\n",
    "photos = []\n",
    "\n",
    "for index, row in df.iterrows():\n",
    "    img_path = os.path.join(img_dir, row['photo'])\n",
    "    try:\n",
    "        img = load_img(img_path, target_size=(100, 100))  # Specify the target size of your images\n",
    "    except Exception as e:\n",
    "        print(f\"Error loading image {img_path}: {e}\")\n",
    "    img_array = img_to_array(img)\n",
    "\n",
    "    # Edge detection using Canny algorithm\n",
    "    gray_image = cv2.cvtColor(img_array.astype('uint8'), cv2.COLOR_RGB2GRAY)\n",
    "    edges = cv2.Canny(gray_image, threshold1=30, threshold2=100)\n",
    "\n",
    "    # Stack the original image and edges as input\n",
    "    img_with_edges = np.dstack([img_array, edges])\n",
    "    \n",
    "    data.append(img_with_edges)\n",
    "    labels.append(row['Label_train'])\n",
    "    photos.append(row['photo'])\n",
    "\n",
    "with open('/home/smmrrr/Fog_Imaging_Project/Fog_Project_Code/datasets/edge_detection_labeled_photos.pkl', 'wb') as file:\n",
    "    pickle.dump(data, file)\n",
    "\n",
    "\n",
    "with open('/home/smmrrr/Fog_Imaging_Project/Fog_Project_Code/datasets/edge_detection_labeled_photos_name_index.pkl', 'wb') as file:\n",
    "    pickle.dump(photos, file)\n"
   ]
  },
  {
   "cell_type": "code",
   "execution_count": 49,
   "metadata": {},
   "outputs": [],
   "source": [
    "with open('/home/smmrrr/Fog_Imaging_Project/Fog_Project_Code/datasets/edge_detection_labeled_photos.pkl', 'wb') as file:\n",
    "    pickle.dump(data, file)\n"
   ]
  },
  {
   "cell_type": "code",
   "execution_count": 34,
   "metadata": {},
   "outputs": [],
   "source": [
    "# Convert lists to numpy arrays\n",
    "data = np.array(data)\n",
    "labels = np.array(labels)\n",
    "\n",
    "# Ensure labels are in the format 0 or 1 for binary classification\n",
    "labels = labels.astype(int)"
   ]
  },
  {
   "cell_type": "code",
   "execution_count": 35,
   "metadata": {},
   "outputs": [],
   "source": [
    "# Normalize pixel values to be between 0 and 1\n",
    "data = data / 255.0"
   ]
  },
  {
   "cell_type": "code",
   "execution_count": 36,
   "metadata": {},
   "outputs": [],
   "source": [
    "# Perform train-test split\n",
    "X_train, X_test, y_train, y_test = train_test_split(data, labels, test_size=0.2, random_state=42)\n"
   ]
  },
  {
   "cell_type": "code",
   "execution_count": 37,
   "metadata": {},
   "outputs": [
    {
     "data": {
      "text/plain": [
       "1600"
      ]
     },
     "execution_count": 37,
     "metadata": {},
     "output_type": "execute_result"
    }
   ],
   "source": [
    "len(X_train)\n",
    "len(X_test)"
   ]
  },
  {
   "cell_type": "code",
   "execution_count": 38,
   "metadata": {},
   "outputs": [
    {
     "name": "stdout",
     "output_type": "stream",
     "text": [
      "Model: \"sequential_1\"\n",
      "_________________________________________________________________\n",
      " Layer (type)                Output Shape              Param #   \n",
      "=================================================================\n",
      " conv2d_3 (Conv2D)           (None, 98, 98, 32)        1184      \n",
      "                                                                 \n",
      " max_pooling2d_3 (MaxPooling  (None, 49, 49, 32)       0         \n",
      " 2D)                                                             \n",
      "                                                                 \n",
      " conv2d_4 (Conv2D)           (None, 47, 47, 64)        18496     \n",
      "                                                                 \n",
      " max_pooling2d_4 (MaxPooling  (None, 23, 23, 64)       0         \n",
      " 2D)                                                             \n",
      "                                                                 \n",
      " conv2d_5 (Conv2D)           (None, 21, 21, 128)       73856     \n",
      "                                                                 \n",
      " max_pooling2d_5 (MaxPooling  (None, 10, 10, 128)      0         \n",
      " 2D)                                                             \n",
      "                                                                 \n",
      " flatten_1 (Flatten)         (None, 12800)             0         \n",
      "                                                                 \n",
      " dense_2 (Dense)             (None, 128)               1638528   \n",
      "                                                                 \n",
      " dense_3 (Dense)             (None, 1)                 129       \n",
      "                                                                 \n",
      "=================================================================\n",
      "Total params: 1,732,193\n",
      "Trainable params: 1,732,193\n",
      "Non-trainable params: 0\n",
      "_________________________________________________________________\n"
     ]
    }
   ],
   "source": [
    "# Build CNN Model\n",
    "model = Sequential()\n",
    "\n",
    "model.add(Conv2D(32, (3, 3), activation='relu', input_shape=(100, 100, 4)))\n",
    "model.add(MaxPooling2D((2, 2)))\n",
    "\n",
    "model.add(Conv2D(64, (3, 3), activation='relu'))\n",
    "model.add(MaxPooling2D((2, 2)))\n",
    "\n",
    "model.add(Conv2D(128, (3, 3), activation='relu'))\n",
    "model.add(MaxPooling2D((2, 2)))\n",
    "\n",
    "model.add(Flatten())\n",
    "model.add(Dense(128, activation='relu'))\n",
    "model.add(Dense(1, activation='sigmoid'))  # For binary classification\n",
    "\n",
    "# Compile the model with specified learning rate\n",
    "opt = Adam(learning_rate=0.01)\n",
    "model.compile(optimizer=opt, loss='binary_crossentropy', metrics=['accuracy'])\n",
    "\n",
    "# Display model summary\n",
    "model.summary()"
   ]
  },
  {
   "cell_type": "code",
   "execution_count": 14,
   "metadata": {},
   "outputs": [
    {
     "name": "stdout",
     "output_type": "stream",
     "text": [
      "Collecting pydot\n",
      "  Downloading pydot-1.4.2-py2.py3-none-any.whl (21 kB)\n",
      "Requirement already satisfied: pyparsing>=2.1.4 in c:\\users\\kshitij\\appdata\\local\\programs\\python\\python37\\lib\\site-packages (from pydot) (3.0.9)\n",
      "Installing collected packages: pydot\n",
      "Successfully installed pydot-1.4.2\n",
      "Note: you may need to restart the kernel to use updated packages.\n"
     ]
    }
   ],
   "source": [
    "%pip install pydot"
   ]
  },
  {
   "cell_type": "code",
   "execution_count": 16,
   "metadata": {},
   "outputs": [
    {
     "name": "stdout",
     "output_type": "stream",
     "text": [
      "You must install pydot (`pip install pydot`) and install graphviz (see instructions at https://graphviz.gitlab.io/download/) for plot_model to work.\n"
     ]
    }
   ],
   "source": [
    "from keras.utils import plot_model\n",
    "plot_model(model, to_file='cnn_model.png', show_shapes=True, show_layer_names=True)"
   ]
  },
  {
   "cell_type": "code",
   "execution_count": 39,
   "metadata": {},
   "outputs": [
    {
     "name": "stdout",
     "output_type": "stream",
     "text": [
      "Epoch 1/10\n",
      "200/200 [==============================] - 20s 93ms/step - loss: 0.2744 - accuracy: 0.9173 - val_loss: 0.2338 - val_accuracy: 0.9394\n",
      "Epoch 2/10\n",
      "200/200 [==============================] - 19s 94ms/step - loss: 0.1436 - accuracy: 0.9517 - val_loss: 0.1652 - val_accuracy: 0.9388\n",
      "Epoch 3/10\n",
      "200/200 [==============================] - 18s 91ms/step - loss: 0.1287 - accuracy: 0.9528 - val_loss: 0.0997 - val_accuracy: 0.9619\n",
      "Epoch 4/10\n",
      "200/200 [==============================] - 18s 91ms/step - loss: 0.1175 - accuracy: 0.9548 - val_loss: 0.1493 - val_accuracy: 0.9544\n",
      "Epoch 5/10\n",
      "200/200 [==============================] - 18s 92ms/step - loss: 0.1152 - accuracy: 0.9554 - val_loss: 0.1020 - val_accuracy: 0.9619\n",
      "Epoch 6/10\n",
      "200/200 [==============================] - 18s 92ms/step - loss: 0.1114 - accuracy: 0.9578 - val_loss: 0.1188 - val_accuracy: 0.9556\n",
      "Epoch 7/10\n",
      "200/200 [==============================] - 18s 92ms/step - loss: 0.1068 - accuracy: 0.9593 - val_loss: 0.1123 - val_accuracy: 0.9600\n",
      "Epoch 8/10\n",
      "200/200 [==============================] - 18s 92ms/step - loss: 0.0960 - accuracy: 0.9629 - val_loss: 0.1416 - val_accuracy: 0.9506\n",
      "50/50 [==============================] - 1s 26ms/step - loss: 0.0997 - accuracy: 0.9619\n",
      "Test Accuracy: 96.19%\n"
     ]
    }
   ],
   "source": [
    "# Early Stopping\n",
    "early_stopping = EarlyStopping(monitor='val_loss', patience=5, restore_best_weights=True)\n",
    "\n",
    "# Train the Model\n",
    "history = model.fit(X_train, y_train, epochs=10, batch_size=32, validation_data=(X_test, y_test), callbacks=[early_stopping])\n",
    "\n",
    "# Evaluate the Model\n",
    "accuracy = model.evaluate(X_test, y_test)[1]\n",
    "print(f'Test Accuracy: {accuracy * 100:.2f}%')\n"
   ]
  },
  {
   "cell_type": "code",
   "execution_count": 21,
   "metadata": {},
   "outputs": [
    {
     "name": "stdout",
     "output_type": "stream",
     "text": [
      "Epoch 1/10\n",
      "216/216 [==============================] - 75s 337ms/step - loss: 0.6505 - accuracy: 0.8567 - val_loss: 0.2680 - val_accuracy: 0.8986\n",
      "Epoch 2/10\n",
      "216/216 [==============================] - 71s 327ms/step - loss: 0.2476 - accuracy: 0.9060 - val_loss: 0.2318 - val_accuracy: 0.9108\n",
      "Epoch 3/10\n",
      "216/216 [==============================] - 71s 327ms/step - loss: 0.2373 - accuracy: 0.9105 - val_loss: 0.2302 - val_accuracy: 0.9096\n",
      "Epoch 4/10\n",
      "216/216 [==============================] - 71s 328ms/step - loss: 0.2327 - accuracy: 0.9140 - val_loss: 0.2378 - val_accuracy: 0.9050\n",
      "Epoch 5/10\n",
      "216/216 [==============================] - 70s 323ms/step - loss: 0.2149 - accuracy: 0.9166 - val_loss: 0.2168 - val_accuracy: 0.9108\n",
      "Epoch 6/10\n",
      "216/216 [==============================] - 69s 321ms/step - loss: 0.2004 - accuracy: 0.9213 - val_loss: 0.2128 - val_accuracy: 0.9102\n",
      "Epoch 7/10\n",
      "216/216 [==============================] - 70s 325ms/step - loss: 0.1920 - accuracy: 0.9219 - val_loss: 0.2474 - val_accuracy: 0.9027\n",
      "Epoch 8/10\n",
      "216/216 [==============================] - 71s 328ms/step - loss: 0.1839 - accuracy: 0.9247 - val_loss: 0.2267 - val_accuracy: 0.9171\n",
      "Epoch 9/10\n",
      "216/216 [==============================] - 71s 328ms/step - loss: 0.1690 - accuracy: 0.9302 - val_loss: 0.2412 - val_accuracy: 0.9061\n",
      "Epoch 10/10\n",
      "216/216 [==============================] - 71s 330ms/step - loss: 0.1591 - accuracy: 0.9342 - val_loss: 0.2428 - val_accuracy: 0.9021\n",
      "54/54 [==============================] - 4s 77ms/step - loss: 0.2428 - accuracy: 0.9021\n",
      "Test Accuracy: 90.21%\n"
     ]
    }
   ],
   "source": [
    "# Early Stopping\n",
    "early_stopping = EarlyStopping(monitor='val_loss', patience=5, restore_best_weights=True)\n",
    "\n",
    "# Train the Model\n",
    "history = model.fit(X_train, y_train, epochs=10, batch_size=32, validation_data=(X_test, y_test), callbacks=[early_stopping])\n",
    "\n",
    "# Evaluate the Model\n",
    "accuracy = model.evaluate(X_test, y_test)[1]\n",
    "print(f'Test Accuracy: {accuracy * 100:.2f}%')\n"
   ]
  },
  {
   "cell_type": "code",
   "execution_count": 40,
   "metadata": {},
   "outputs": [
    {
     "name": "stdout",
     "output_type": "stream",
     "text": [
      "50/50 [==============================] - 1s 22ms/step\n",
      "Classification Report:\n",
      "              precision    recall  f1-score   support\n",
      "\n",
      "           0       0.97      0.98      0.98      1397\n",
      "           1       0.88      0.81      0.84       203\n",
      "\n",
      "    accuracy                           0.96      1600\n",
      "   macro avg       0.93      0.90      0.91      1600\n",
      "weighted avg       0.96      0.96      0.96      1600\n",
      "\n"
     ]
    }
   ],
   "source": [
    "# Display additional metrics\n",
    "y_pred = model.predict(X_test)\n",
    "y_pred_binary = (y_pred > 0.5).astype(int)\n",
    "\n",
    "print(\"Classification Report:\")\n",
    "print(classification_report(y_test, y_pred_binary))"
   ]
  },
  {
   "cell_type": "code",
   "execution_count": 53,
   "metadata": {},
   "outputs": [
    {
     "name": "stdout",
     "output_type": "stream",
     "text": [
      "Accuracy: 0.961875\n",
      "Precision: 0.8817204301075269\n",
      "Recall: 0.8078817733990148\n",
      "F1 Score: 0.8431876606683805\n",
      "AUC-ROC Score: 0.9850048132698146\n"
     ]
    }
   ],
   "source": [
    "from sklearn.metrics import accuracy_score, precision_score, recall_score, f1_score, precision_recall_curve, roc_auc_score, roc_curve, auc\n",
    "# Calculate metrics\n",
    "accuracy = accuracy_score(y_test, y_pred_binary)\n",
    "precision = precision_score(y_test, y_pred_binary)\n",
    "recall = recall_score(y_test, y_pred_binary)\n",
    "f1 = f1_score(y_test, y_pred_binary)\n",
    "roc_auc = roc_auc_score(y_test, y_pred)\n",
    "\n",
    "# roc_auc = roc_auc_score(y_test, clf.predict_proba(X_test)[:, 1])\n",
    "\n",
    "# Print the metrics\n",
    "print(\"Accuracy:\", accuracy)\n",
    "print(\"Precision:\", precision)\n",
    "print(\"Recall:\", recall)\n",
    "print(\"F1 Score:\", f1)\n",
    "print(\"AUC-ROC Score:\", roc_auc)\n"
   ]
  },
  {
   "cell_type": "code",
   "execution_count": 18,
   "metadata": {},
   "outputs": [],
   "source": [
    "import pickle\n",
    "path_names = '/home/smmrrr/Fog_Imaging_Project/Fog_Project_Code/datasets/edge_detection_unlabeled_photos_name_index.pkl'\n",
    "path = '/home/smmrrr/Fog_Imaging_Project/Fog_Project_Code/datasets/edge_detection_unlabeled_photos.pkl'\n",
    "\n",
    "with open(path_names, 'rb') as f:\n",
    "    names_all_photos = pickle.load(f)\n",
    "with open(path, 'rb') as f:\n",
    "    all_photos = pickle.load(f)\n"
   ]
  },
  {
   "cell_type": "code",
   "execution_count": 23,
   "metadata": {},
   "outputs": [
    {
     "data": {
      "text/plain": [
       "(22831, 100, 100, 4)"
      ]
     },
     "execution_count": 23,
     "metadata": {},
     "output_type": "execute_result"
    }
   ],
   "source": [
    "all_photos = np.array(all_photos)\n",
    "all_photos.shape"
   ]
  },
  {
   "cell_type": "code",
   "execution_count": 43,
   "metadata": {},
   "outputs": [],
   "source": [
    "all_photos = all_photos / 255.0"
   ]
  },
  {
   "cell_type": "code",
   "execution_count": 22,
   "metadata": {},
   "outputs": [
    {
     "data": {
      "text/plain": [
       "(1624, 100, 100, 4)"
      ]
     },
     "execution_count": 22,
     "metadata": {},
     "output_type": "execute_result"
    }
   ],
   "source": [
    "X_train.shape"
   ]
  },
  {
   "cell_type": "code",
   "execution_count": 44,
   "metadata": {},
   "outputs": [
    {
     "name": "stdout",
     "output_type": "stream",
     "text": [
      "714/714 [==============================] - 19s 27ms/step\n"
     ]
    }
   ],
   "source": [
    "#####does the model make sense when run on all photos?\n",
    "\n",
    "results = model.predict(all_photos)"
   ]
  },
  {
   "cell_type": "code",
   "execution_count": 45,
   "metadata": {},
   "outputs": [
    {
     "data": {
      "text/plain": [
       "0.11709895"
      ]
     },
     "execution_count": 45,
     "metadata": {},
     "output_type": "execute_result"
    }
   ],
   "source": [
    "results.mean()"
   ]
  },
  {
   "cell_type": "code",
   "execution_count": 46,
   "metadata": {},
   "outputs": [],
   "source": [
    "model.save('/home/smmrrr/Fog_Imaging_Project/Fog_Project_Code/models/cnn_edgedetection.keras')  # The file needs to end with the .keras extension\n"
   ]
  },
  {
   "cell_type": "code",
   "execution_count": 26,
   "metadata": {},
   "outputs": [
    {
     "data": {
      "text/plain": [
       "0.21317829"
      ]
     },
     "execution_count": 26,
     "metadata": {},
     "output_type": "execute_result"
    }
   ],
   "source": [
    "results.mean()"
   ]
  },
  {
   "cell_type": "code",
   "execution_count": 15,
   "metadata": {},
   "outputs": [],
   "source": [
    "def plot_confusion_matrix(y_test, y_test_pred, model_name):\n",
    "    test_confusion_matrix = confusion_matrix(y_test, y_test_pred)\n",
    "    group_names = ['True Negative (TN)', 'False Positive (FP)',\n",
    "                'False Negative (FN)', 'True Positive (TP)']\n",
    "    group_counts = [\"{0:0.0f}\".format(value) for value in test_confusion_matrix.flatten()]\n",
    "    group_percentages = [\"{0:.2%}\".format(value) for value in test_confusion_matrix.flatten()/np.sum(test_confusion_matrix)]\n",
    "\n",
    "    labels = [f\"{v1}\\n{v2}\\n{v3}\" for v1, v2, v3 in zip(group_names, group_counts, group_percentages)]\n",
    "    labels = np.asarray(labels).reshape(2,2)\n",
    "\n",
    "    # Creating the heatmap\n",
    "    plt.figure(figsize=(10,7))\n",
    "    sns.heatmap(test_confusion_matrix, annot=labels, fmt='', cmap='Blues')\n",
    "    plt.title(\"Confusion Matrix for \"+ model_name+ \" (using Test Set)\")\n",
    "    plt.ylabel('True label')\n",
    "    plt.xlabel('Predicted label')\n",
    "\n",
    "    plt.show()"
   ]
  },
  {
   "cell_type": "code",
   "execution_count": 16,
   "metadata": {},
   "outputs": [
    {
     "data": {
      "image/png": "[encoded data removed]",
      "text/plain": [
       "<Figure size 720x504 with 2 Axes>"
      ]
     },
     "metadata": {
      "needs_background": "light"
     },
     "output_type": "display_data"
    }
   ],
   "source": [
    "# Confusion Matrix\n",
    "import seaborn as sns\n",
    "\n",
    "plot_confusion_matrix(y_test, y_pred_binary, \"CNN\")\n"
   ]
  },
  {
   "cell_type": "code",
   "execution_count": 39,
   "metadata": {},
   "outputs": [],
   "source": [
    "# ROC Curve\n",
    "fpr, tpr, _ = roc_curve(y_test, y_pred)\n",
    "roc_auc = auc(fpr, tpr)"
   ]
  },
  {
   "cell_type": "code",
   "execution_count": 40,
   "metadata": {},
   "outputs": [],
   "source": [
    "# Precision-Recall Curve\n",
    "precision, recall, _ = precision_recall_curve(y_test, y_pred)\n",
    "pr_auc = auc(recall, precision)"
   ]
  },
  {
   "cell_type": "code",
   "execution_count": 41,
   "metadata": {},
   "outputs": [
    {
     "data": {
      "image/png": "[encoded data removed]",
      "text/plain": [
       "<Figure size 576x576 with 1 Axes>"
      ]
     },
     "metadata": {
      "needs_background": "light"
     },
     "output_type": "display_data"
    }
   ],
   "source": [
    "# Plot ROC Curve\n",
    "plt.figure(figsize=(8, 8))\n",
    "plt.plot(fpr, tpr, color='darkorange', lw=2, label=f'AUC = {roc_auc:.2f}')\n",
    "plt.plot([0, 1], [0, 1], color='navy', lw=2, linestyle='--')\n",
    "plt.xlabel('False Positive Rate')\n",
    "plt.ylabel('True Positive Rate')\n",
    "plt.title('Receiver Operating Characteristic (ROC) Curve')\n",
    "plt.legend(loc='lower right')\n",
    "plt.show()"
   ]
  },
  {
   "cell_type": "code",
   "execution_count": 42,
   "metadata": {},
   "outputs": [
    {
     "data": {
      "image/png": "[encoded data removed]",
      "text/plain": [
       "<Figure size 576x576 with 1 Axes>"
      ]
     },
     "metadata": {
      "needs_background": "light"
     },
     "output_type": "display_data"
    }
   ],
   "source": [
    "# Plot Precision-Recall Curve\n",
    "plt.figure(figsize=(8, 8))\n",
    "plt.plot(recall, precision, color='blue', lw=2, label=f'AUC = {pr_auc:.2f}')\n",
    "plt.xlabel('Recall')\n",
    "plt.ylabel('Precision')\n",
    "plt.title('Precision-Recall Curve')\n",
    "plt.legend(loc='lower right')\n",
    "plt.show()"
   ]
  },
  {
   "cell_type": "code",
   "execution_count": 43,
   "metadata": {},
   "outputs": [
    {
     "ename": "KeyboardInterrupt",
     "evalue": "",
     "output_type": "error",
     "traceback": [
      "\u001b[0;31m---------------------------------------------------------------------------\u001b[0m",
      "\u001b[0;31mKeyboardInterrupt\u001b[0m                         Traceback (most recent call last)",
      "\u001b[0;32m/tmp/ipykernel_3427369/3053923361.py\u001b[0m in \u001b[0;36m<cell line: 8>\u001b[0;34m()\u001b[0m\n\u001b[1;32m      8\u001b[0m \u001b[0;32mfor\u001b[0m \u001b[0mindex\u001b[0m\u001b[0;34m,\u001b[0m \u001b[0mrow\u001b[0m \u001b[0;32min\u001b[0m \u001b[0mlinks_and_labels_loop\u001b[0m\u001b[0;34m.\u001b[0m\u001b[0miterrows\u001b[0m\u001b[0;34m(\u001b[0m\u001b[0;34m)\u001b[0m\u001b[0;34m:\u001b[0m\u001b[0;34m\u001b[0m\u001b[0;34m\u001b[0m\u001b[0m\n\u001b[1;32m      9\u001b[0m     \u001b[0mimg_path\u001b[0m \u001b[0;34m=\u001b[0m \u001b[0mos\u001b[0m\u001b[0;34m.\u001b[0m\u001b[0mpath\u001b[0m\u001b[0;34m.\u001b[0m\u001b[0mjoin\u001b[0m\u001b[0;34m(\u001b[0m\u001b[0mimage_dir\u001b[0m\u001b[0;34m,\u001b[0m \u001b[0mrow\u001b[0m\u001b[0;34m[\u001b[0m\u001b[0;34m'photo'\u001b[0m\u001b[0;34m]\u001b[0m\u001b[0;34m)\u001b[0m\u001b[0;34m\u001b[0m\u001b[0;34m\u001b[0m\u001b[0m\n\u001b[0;32m---> 10\u001b[0;31m     \u001b[0mimg\u001b[0m \u001b[0;34m=\u001b[0m \u001b[0mload_img\u001b[0m\u001b[0;34m(\u001b[0m\u001b[0mimg_path\u001b[0m\u001b[0;34m,\u001b[0m \u001b[0mtarget_size\u001b[0m\u001b[0;34m=\u001b[0m\u001b[0;34m(\u001b[0m\u001b[0;36m100\u001b[0m\u001b[0;34m,\u001b[0m \u001b[0;36m100\u001b[0m\u001b[0;34m)\u001b[0m\u001b[0;34m)\u001b[0m  \u001b[0;31m# Specify the target size of your images\u001b[0m\u001b[0;34m\u001b[0m\u001b[0;34m\u001b[0m\u001b[0m\n\u001b[0m\u001b[1;32m     11\u001b[0m     \u001b[0mimg_array\u001b[0m \u001b[0;34m=\u001b[0m \u001b[0mimg_to_array\u001b[0m\u001b[0;34m(\u001b[0m\u001b[0mimg\u001b[0m\u001b[0;34m)\u001b[0m\u001b[0;34m\u001b[0m\u001b[0;34m\u001b[0m\u001b[0m\n\u001b[1;32m     12\u001b[0m \u001b[0;34m\u001b[0m\u001b[0m\n",
      "\u001b[0;32m~/miniconda3/envs/condaforge/lib/python3.10/site-packages/keras/utils/image_utils.py\u001b[0m in \u001b[0;36mload_img\u001b[0;34m(path, grayscale, color_mode, target_size, interpolation, keep_aspect_ratio)\u001b[0m\n\u001b[1;32m    421\u001b[0m             \u001b[0mpath\u001b[0m \u001b[0;34m=\u001b[0m \u001b[0mstr\u001b[0m\u001b[0;34m(\u001b[0m\u001b[0mpath\u001b[0m\u001b[0;34m.\u001b[0m\u001b[0mresolve\u001b[0m\u001b[0;34m(\u001b[0m\u001b[0;34m)\u001b[0m\u001b[0;34m)\u001b[0m\u001b[0;34m\u001b[0m\u001b[0;34m\u001b[0m\u001b[0m\n\u001b[1;32m    422\u001b[0m         \u001b[0;32mwith\u001b[0m \u001b[0mopen\u001b[0m\u001b[0;34m(\u001b[0m\u001b[0mpath\u001b[0m\u001b[0;34m,\u001b[0m \u001b[0;34m\"rb\"\u001b[0m\u001b[0;34m)\u001b[0m \u001b[0;32mas\u001b[0m \u001b[0mf\u001b[0m\u001b[0;34m:\u001b[0m\u001b[0;34m\u001b[0m\u001b[0;34m\u001b[0m\u001b[0m\n\u001b[0;32m--> 423\u001b[0;31m             \u001b[0mimg\u001b[0m \u001b[0;34m=\u001b[0m \u001b[0mpil_image\u001b[0m\u001b[0;34m.\u001b[0m\u001b[0mopen\u001b[0m\u001b[0;34m(\u001b[0m\u001b[0mio\u001b[0m\u001b[0;34m.\u001b[0m\u001b[0mBytesIO\u001b[0m\u001b[0;34m(\u001b[0m\u001b[0mf\u001b[0m\u001b[0;34m.\u001b[0m\u001b[0mread\u001b[0m\u001b[0;34m(\u001b[0m\u001b[0;34m)\u001b[0m\u001b[0;34m)\u001b[0m\u001b[0;34m)\u001b[0m\u001b[0;34m\u001b[0m\u001b[0;34m\u001b[0m\u001b[0m\n\u001b[0m\u001b[1;32m    424\u001b[0m     \u001b[0;32melse\u001b[0m\u001b[0;34m:\u001b[0m\u001b[0;34m\u001b[0m\u001b[0;34m\u001b[0m\u001b[0m\n\u001b[1;32m    425\u001b[0m         raise TypeError(\n",
      "\u001b[0;31mKeyboardInterrupt\u001b[0m: "
     ]
    }
   ],
   "source": [
    "links_and_labels_loop = pd.read_csv('/home/smmrrr/Fog_Imaging_Project/Fog_Project_Code/unlabeled_photos_for_model.csv')\n",
    "image_dir = '/home/smmrrr/surfline/'\n",
    "\n",
    "# Load images and labels\n",
    "data = []\n",
    "labels = []\n",
    "\n",
    "for index, row in links_and_labels_loop.iterrows():\n",
    "    img_path = os.path.join(image_dir, row['photo'])\n",
    "    img = load_img(img_path, target_size=(100, 100))  # Specify the target size of your images\n",
    "    img_array = img_to_array(img)\n",
    "\n",
    "    # Edge detection using Canny algorithm\n",
    "    gray_image = cv2.cvtColor(img_array.astype('uint8'), cv2.COLOR_RGB2GRAY)\n",
    "    edges = cv2.Canny(gray_image, threshold1=30, threshold2=100)\n",
    "\n",
    "    # Stack the original image and edges as input\n",
    "    img_with_edges = np.dstack([img_array, edges])\n",
    "    \n",
    "    data.append(img_with_edges)\n",
    "    labels.append(row['photo'])"
   ]
  }
 ],
 "metadata": {
  "kernelspec": {
   "display_name": "condaforge",
   "language": "python",
   "name": "condaforge"
  },
  "language_info": {
   "codemirror_mode": {
    "name": "ipython",
    "version": 3
   },
   "file_extension": ".py",
   "mimetype": "text/x-python",
   "name": "python",
   "nbconvert_exporter": "python",
   "pygments_lexer": "ipython3",
   "version": "3.10.6"
  }
 },
 "nbformat": 4,
 "nbformat_minor": 4
}

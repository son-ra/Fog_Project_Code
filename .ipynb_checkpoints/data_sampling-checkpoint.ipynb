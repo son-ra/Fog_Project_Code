{
 "cells": [
  {
   "cell_type": "code",
   "execution_count": 1,
   "id": "0092abfc-e242-4a5a-80be-2ea8b6b5a779",
   "metadata": {},
   "outputs": [
    {
     "name": "stdout",
     "output_type": "stream",
     "text": [
      "Automatically created module for IPython interactive environment\n"
     ]
    }
   ],
   "source": [
    "import numpy as np\n",
    "from scipy.stats import qmc\n",
    "# idaes.surrogate.pysmo.sampling.\n",
    "print(__doc__)\n",
    "import numpy as np\n",
    "np.random.seed(123)\n",
    "from sklearn.model_selection import train_test_split\n",
    "import pandas as pd\n",
    "import shutil"
   ]
  },
  {
   "cell_type": "code",
   "execution_count": 2,
   "id": "dc990e25-2fe4-40f0-89c3-4a2d9b740dcb",
   "metadata": {},
   "outputs": [
    {
     "data": {
      "text/plain": [
       "(68972, 4292)"
      ]
     },
     "execution_count": 2,
     "metadata": {},
     "output_type": "execute_result"
    }
   ],
   "source": [
    "tt = np.loadtxt(\"/home/smmrrr/Fog_Imaging_Project/images_wavelet_tansformed.csv\",delimiter = \",\")\n",
    "tt.shape"
   ]
  },
  {
   "cell_type": "code",
   "execution_count": 9,
   "id": "b87b2f57-bc88-44a5-add9-d1951b226683",
   "metadata": {},
   "outputs": [
    {
     "data": {
      "text/plain": [
       "0.04349591138432987"
      ]
     },
     "execution_count": 9,
     "metadata": {},
     "output_type": "execute_result"
    }
   ],
   "source": [
    "3000/tt.shape[0]"
   ]
  },
  {
   "cell_type": "code",
   "execution_count": null,
   "id": "99a515a3-def0-44fe-901a-0f3707d0a801",
   "metadata": {},
   "outputs": [],
   "source": []
  },
  {
   "cell_type": "code",
   "execution_count": 3,
   "id": "e63413a7-2773-48e9-ab5e-73e1ee9681d7",
   "metadata": {},
   "outputs": [],
   "source": [
    "photo_info = pd.read_csv('/home/smmrrr/Fog_Imaging_Project/all_photos_link.csv')\n"
   ]
  },
  {
   "cell_type": "code",
   "execution_count": 4,
   "id": "ca3e730d-ca67-4a16-9337-3b55df509747",
   "metadata": {},
   "outputs": [
    {
     "data": {
      "text/html": [
       "<div>\n",
       "<style scoped>\n",
       "    .dataframe tbody tr th:only-of-type {\n",
       "        vertical-align: middle;\n",
       "    }\n",
       "\n",
       "    .dataframe tbody tr th {\n",
       "        vertical-align: top;\n",
       "    }\n",
       "\n",
       "    .dataframe thead th {\n",
       "        text-align: right;\n",
       "    }\n",
       "</style>\n",
       "<table border=\"1\" class=\"dataframe\">\n",
       "  <thead>\n",
       "    <tr style=\"text-align: right;\">\n",
       "      <th></th>\n",
       "      <th>project_files_location</th>\n",
       "      <th>photo_size</th>\n",
       "    </tr>\n",
       "  </thead>\n",
       "  <tbody>\n",
       "    <tr>\n",
       "      <th>0</th>\n",
       "      <td>746574512.Sat.Aug.28_21_48_32.GMT.1993.argus00...</td>\n",
       "      <td>(480, 640)</td>\n",
       "    </tr>\n",
       "    <tr>\n",
       "      <th>1</th>\n",
       "      <td>905736605.Mon.Sep.14_01_30_05.GMT.1998.argus00...</td>\n",
       "      <td>(480, 640, 3)</td>\n",
       "    </tr>\n",
       "    <tr>\n",
       "      <th>2</th>\n",
       "      <td>1151780400.Sat.Jul.01_19_00_00.GMT.2006.argus0...</td>\n",
       "      <td>(960, 1280, 3)</td>\n",
       "    </tr>\n",
       "    <tr>\n",
       "      <th>3</th>\n",
       "      <td>995580007.Thu.Jul.19_22_00_07.GMT.2001.argus00...</td>\n",
       "      <td>(480, 640, 3)</td>\n",
       "    </tr>\n",
       "    <tr>\n",
       "      <th>4</th>\n",
       "      <td>1560808800.Mon.Jun.17_22_00_00.GMT.2019.argus0...</td>\n",
       "      <td>(960, 1280, 3)</td>\n",
       "    </tr>\n",
       "    <tr>\n",
       "      <th>...</th>\n",
       "      <td>...</td>\n",
       "      <td>...</td>\n",
       "    </tr>\n",
       "    <tr>\n",
       "      <th>68967</th>\n",
       "      <td>802803635.Sat.Jun.10_17_00_35.GMT.1995.argus00...</td>\n",
       "      <td>(480, 640)</td>\n",
       "    </tr>\n",
       "    <tr>\n",
       "      <th>68968</th>\n",
       "      <td>1408485600.Tue.Aug.19_22_00_00.GMT.2014.argus0...</td>\n",
       "      <td>(960, 1280, 3)</td>\n",
       "    </tr>\n",
       "    <tr>\n",
       "      <th>68969</th>\n",
       "      <td>842547625.Thu.Sep.12_17_00_25.GMT.1996.argus00...</td>\n",
       "      <td>(480, 640)</td>\n",
       "    </tr>\n",
       "    <tr>\n",
       "      <th>68970</th>\n",
       "      <td>966366006.Tue.Aug.15_19_00_06.GMT.2000.argus00...</td>\n",
       "      <td>(480, 640, 3)</td>\n",
       "    </tr>\n",
       "    <tr>\n",
       "      <th>68971</th>\n",
       "      <td>1159203600.Mon.Sep.25_17_00_00.GMT.2006.argus0...</td>\n",
       "      <td>(960, 1280, 3)</td>\n",
       "    </tr>\n",
       "  </tbody>\n",
       "</table>\n",
       "<p>68972 rows × 2 columns</p>\n",
       "</div>"
      ],
      "text/plain": [
       "                                  project_files_location      photo_size\n",
       "0      746574512.Sat.Aug.28_21_48_32.GMT.1993.argus00...      (480, 640)\n",
       "1      905736605.Mon.Sep.14_01_30_05.GMT.1998.argus00...   (480, 640, 3)\n",
       "2      1151780400.Sat.Jul.01_19_00_00.GMT.2006.argus0...  (960, 1280, 3)\n",
       "3      995580007.Thu.Jul.19_22_00_07.GMT.2001.argus00...   (480, 640, 3)\n",
       "4      1560808800.Mon.Jun.17_22_00_00.GMT.2019.argus0...  (960, 1280, 3)\n",
       "...                                                  ...             ...\n",
       "68967  802803635.Sat.Jun.10_17_00_35.GMT.1995.argus00...      (480, 640)\n",
       "68968  1408485600.Tue.Aug.19_22_00_00.GMT.2014.argus0...  (960, 1280, 3)\n",
       "68969  842547625.Thu.Sep.12_17_00_25.GMT.1996.argus00...      (480, 640)\n",
       "68970  966366006.Tue.Aug.15_19_00_06.GMT.2000.argus00...   (480, 640, 3)\n",
       "68971  1159203600.Mon.Sep.25_17_00_00.GMT.2006.argus0...  (960, 1280, 3)\n",
       "\n",
       "[68972 rows x 2 columns]"
      ]
     },
     "execution_count": 4,
     "metadata": {},
     "output_type": "execute_result"
    }
   ],
   "source": [
    "photo_info"
   ]
  },
  {
   "cell_type": "code",
   "execution_count": 10,
   "id": "b9388c36-0653-4759-8402-c4aaba51322a",
   "metadata": {},
   "outputs": [],
   "source": [
    "image_files_summary = photo_info['project_files_location'].str.split(r'[\\.|\\_]',expand = True)\n",
    "image_files_summary.columns = ['number_id', 'weekday', 'month_abv', 'day', 'hour', 'min', 'second', 'tz', 'year', 'camera', 'camera_angle', 'image_capture_type', 'ext']\n",
    "# image_files_summary['filename'] = image_files\n",
    "\n",
    "photo_info = pd.concat([photo_info, image_files_summary], axis = 1 )"
   ]
  },
  {
   "cell_type": "code",
   "execution_count": 19,
   "id": "716fc62f-d710-4524-a44e-d4ecab9fb741",
   "metadata": {},
   "outputs": [],
   "source": [
    "# df['DataFrame Column'] = df['DataFrame Column'].astype(int)\n",
    "photo_info['day'] = pd.to_numeric(photo_info['day'])\n",
    "photo_info['hour'] = pd.to_numeric(photo_info['hour'])\n",
    "photo_info['min']= pd.to_numeric(photo_info['min'])"
   ]
  },
  {
   "cell_type": "code",
   "execution_count": 24,
   "id": "db4583c7-c8fa-4fc9-9c5c-aa228c91367f",
   "metadata": {},
   "outputs": [],
   "source": [
    "photo_info['hour_PST'] = photo_info['hour'] - 8\n",
    "photo_info.loc[photo_info['hour_PST'] < 0, 'hour_PST'] = 24 + photo_info['hour_PST'] "
   ]
  },
  {
   "cell_type": "code",
   "execution_count": 25,
   "id": "baa50fab-5657-4a73-87ea-8d17b487772e",
   "metadata": {},
   "outputs": [
    {
     "data": {
      "text/plain": [
       "count    68972.000000\n",
       "mean        12.274720\n",
       "std          4.261195\n",
       "min          5.000000\n",
       "25%          9.000000\n",
       "50%         12.000000\n",
       "75%         16.000000\n",
       "max         22.000000\n",
       "Name: hour_PST, dtype: float64"
      ]
     },
     "execution_count": 25,
     "metadata": {},
     "output_type": "execute_result"
    }
   ],
   "source": [
    "photo_info['hour_PST'].describe()"
   ]
  },
  {
   "cell_type": "code",
   "execution_count": 27,
   "id": "f09dfe6f-ad66-47af-a71e-58d3a4571899",
   "metadata": {},
   "outputs": [
    {
     "data": {
      "text/html": [
       "<div>\n",
       "<style scoped>\n",
       "    .dataframe tbody tr th:only-of-type {\n",
       "        vertical-align: middle;\n",
       "    }\n",
       "\n",
       "    .dataframe tbody tr th {\n",
       "        vertical-align: top;\n",
       "    }\n",
       "\n",
       "    .dataframe thead th {\n",
       "        text-align: right;\n",
       "    }\n",
       "</style>\n",
       "<table border=\"1\" class=\"dataframe\">\n",
       "  <thead>\n",
       "    <tr style=\"text-align: right;\">\n",
       "      <th></th>\n",
       "      <th>project_files_location</th>\n",
       "      <th>photo_size</th>\n",
       "      <th>number_id</th>\n",
       "      <th>weekday</th>\n",
       "      <th>month_abv</th>\n",
       "      <th>day</th>\n",
       "      <th>hour</th>\n",
       "      <th>min</th>\n",
       "      <th>second</th>\n",
       "      <th>tz</th>\n",
       "      <th>year</th>\n",
       "      <th>camera</th>\n",
       "      <th>camera_angle</th>\n",
       "      <th>image_capture_type</th>\n",
       "      <th>ext</th>\n",
       "      <th>hour_PST</th>\n",
       "    </tr>\n",
       "  </thead>\n",
       "  <tbody>\n",
       "    <tr>\n",
       "      <th>5</th>\n",
       "      <td>901371605.Sat.Jul.25_13_00_05.GMT.1998.argus00...</td>\n",
       "      <td>(480, 640, 3)</td>\n",
       "      <td>901371605</td>\n",
       "      <td>Sat</td>\n",
       "      <td>Jul</td>\n",
       "      <td>25</td>\n",
       "      <td>13</td>\n",
       "      <td>0</td>\n",
       "      <td>05</td>\n",
       "      <td>GMT</td>\n",
       "      <td>1998</td>\n",
       "      <td>argus00</td>\n",
       "      <td>c0</td>\n",
       "      <td>snap</td>\n",
       "      <td>jpg</td>\n",
       "      <td>5</td>\n",
       "    </tr>\n",
       "    <tr>\n",
       "      <th>9</th>\n",
       "      <td>743870192.Wed.Jul.28_14_36_32.GMT.1993.argus00...</td>\n",
       "      <td>(480, 640)</td>\n",
       "      <td>743870192</td>\n",
       "      <td>Wed</td>\n",
       "      <td>Jul</td>\n",
       "      <td>28</td>\n",
       "      <td>14</td>\n",
       "      <td>36</td>\n",
       "      <td>32</td>\n",
       "      <td>GMT</td>\n",
       "      <td>1993</td>\n",
       "      <td>argus00</td>\n",
       "      <td>c0</td>\n",
       "      <td>snap</td>\n",
       "      <td>jpg</td>\n",
       "      <td>6</td>\n",
       "    </tr>\n",
       "    <tr>\n",
       "      <th>11</th>\n",
       "      <td>903187806.Sat.Aug.15_13_30_06.GMT.1998.argus00...</td>\n",
       "      <td>(480, 640, 3)</td>\n",
       "      <td>903187806</td>\n",
       "      <td>Sat</td>\n",
       "      <td>Aug</td>\n",
       "      <td>15</td>\n",
       "      <td>13</td>\n",
       "      <td>30</td>\n",
       "      <td>06</td>\n",
       "      <td>GMT</td>\n",
       "      <td>1998</td>\n",
       "      <td>argus00</td>\n",
       "      <td>c0</td>\n",
       "      <td>snap</td>\n",
       "      <td>jpg</td>\n",
       "      <td>5</td>\n",
       "    </tr>\n",
       "    <tr>\n",
       "      <th>12</th>\n",
       "      <td>1027692007.Fri.Jul.26_14_00_07.GMT.2002.argus0...</td>\n",
       "      <td>(480, 640, 3)</td>\n",
       "      <td>1027692007</td>\n",
       "      <td>Fri</td>\n",
       "      <td>Jul</td>\n",
       "      <td>26</td>\n",
       "      <td>14</td>\n",
       "      <td>0</td>\n",
       "      <td>07</td>\n",
       "      <td>GMT</td>\n",
       "      <td>2002</td>\n",
       "      <td>argus00</td>\n",
       "      <td>c0</td>\n",
       "      <td>snap</td>\n",
       "      <td>jpg</td>\n",
       "      <td>6</td>\n",
       "    </tr>\n",
       "    <tr>\n",
       "      <th>35</th>\n",
       "      <td>866354413.Sun.Jun.15_06_00_13.GMT.1997.argus00...</td>\n",
       "      <td>(480, 640)</td>\n",
       "      <td>866354413</td>\n",
       "      <td>Sun</td>\n",
       "      <td>Jun</td>\n",
       "      <td>15</td>\n",
       "      <td>6</td>\n",
       "      <td>0</td>\n",
       "      <td>13</td>\n",
       "      <td>GMT</td>\n",
       "      <td>1997</td>\n",
       "      <td>argus00</td>\n",
       "      <td>c0</td>\n",
       "      <td>snap</td>\n",
       "      <td>jpg</td>\n",
       "      <td>22</td>\n",
       "    </tr>\n",
       "    <tr>\n",
       "      <th>...</th>\n",
       "      <td>...</td>\n",
       "      <td>...</td>\n",
       "      <td>...</td>\n",
       "      <td>...</td>\n",
       "      <td>...</td>\n",
       "      <td>...</td>\n",
       "      <td>...</td>\n",
       "      <td>...</td>\n",
       "      <td>...</td>\n",
       "      <td>...</td>\n",
       "      <td>...</td>\n",
       "      <td>...</td>\n",
       "      <td>...</td>\n",
       "      <td>...</td>\n",
       "      <td>...</td>\n",
       "      <td>...</td>\n",
       "    </tr>\n",
       "    <tr>\n",
       "      <th>68923</th>\n",
       "      <td>1493647200.Mon.May.01_14_00_00.GMT.2017.argus0...</td>\n",
       "      <td>(960, 1280, 3)</td>\n",
       "      <td>1493647200</td>\n",
       "      <td>Mon</td>\n",
       "      <td>May</td>\n",
       "      <td>1</td>\n",
       "      <td>14</td>\n",
       "      <td>0</td>\n",
       "      <td>00</td>\n",
       "      <td>GMT</td>\n",
       "      <td>2017</td>\n",
       "      <td>argus00</td>\n",
       "      <td>c0</td>\n",
       "      <td>snap</td>\n",
       "      <td>jpg</td>\n",
       "      <td>6</td>\n",
       "    </tr>\n",
       "    <tr>\n",
       "      <th>68928</th>\n",
       "      <td>1407074400.Sun.Aug.03_14_00_00.GMT.2014.argus0...</td>\n",
       "      <td>(960, 1280, 3)</td>\n",
       "      <td>1407074400</td>\n",
       "      <td>Sun</td>\n",
       "      <td>Aug</td>\n",
       "      <td>3</td>\n",
       "      <td>14</td>\n",
       "      <td>0</td>\n",
       "      <td>00</td>\n",
       "      <td>GMT</td>\n",
       "      <td>2014</td>\n",
       "      <td>argus00</td>\n",
       "      <td>c0</td>\n",
       "      <td>snap</td>\n",
       "      <td>jpg</td>\n",
       "      <td>6</td>\n",
       "    </tr>\n",
       "    <tr>\n",
       "      <th>68949</th>\n",
       "      <td>1057896006.Fri.Jul.11_04_00_06.GMT.2003.argus0...</td>\n",
       "      <td>(480, 640, 3)</td>\n",
       "      <td>1057896006</td>\n",
       "      <td>Fri</td>\n",
       "      <td>Jul</td>\n",
       "      <td>11</td>\n",
       "      <td>4</td>\n",
       "      <td>0</td>\n",
       "      <td>06</td>\n",
       "      <td>GMT</td>\n",
       "      <td>2003</td>\n",
       "      <td>argus00</td>\n",
       "      <td>c0</td>\n",
       "      <td>snap</td>\n",
       "      <td>jpg</td>\n",
       "      <td>20</td>\n",
       "    </tr>\n",
       "    <tr>\n",
       "      <th>68956</th>\n",
       "      <td>811490418.Tue.Sep.19_06_00_18.GMT.1995.argus00...</td>\n",
       "      <td>(480, 640)</td>\n",
       "      <td>811490418</td>\n",
       "      <td>Tue</td>\n",
       "      <td>Sep</td>\n",
       "      <td>19</td>\n",
       "      <td>6</td>\n",
       "      <td>0</td>\n",
       "      <td>18</td>\n",
       "      <td>GMT</td>\n",
       "      <td>1995</td>\n",
       "      <td>argus00</td>\n",
       "      <td>c0</td>\n",
       "      <td>snap</td>\n",
       "      <td>jpg</td>\n",
       "      <td>22</td>\n",
       "    </tr>\n",
       "    <tr>\n",
       "      <th>68960</th>\n",
       "      <td>903704406.Fri.Aug.21_13_00_06.GMT.1998.argus00...</td>\n",
       "      <td>(480, 640, 3)</td>\n",
       "      <td>903704406</td>\n",
       "      <td>Fri</td>\n",
       "      <td>Aug</td>\n",
       "      <td>21</td>\n",
       "      <td>13</td>\n",
       "      <td>0</td>\n",
       "      <td>06</td>\n",
       "      <td>GMT</td>\n",
       "      <td>1998</td>\n",
       "      <td>argus00</td>\n",
       "      <td>c0</td>\n",
       "      <td>snap</td>\n",
       "      <td>jpg</td>\n",
       "      <td>5</td>\n",
       "    </tr>\n",
       "  </tbody>\n",
       "</table>\n",
       "<p>8665 rows × 16 columns</p>\n",
       "</div>"
      ],
      "text/plain": [
       "                                  project_files_location      photo_size  \\\n",
       "5      901371605.Sat.Jul.25_13_00_05.GMT.1998.argus00...   (480, 640, 3)   \n",
       "9      743870192.Wed.Jul.28_14_36_32.GMT.1993.argus00...      (480, 640)   \n",
       "11     903187806.Sat.Aug.15_13_30_06.GMT.1998.argus00...   (480, 640, 3)   \n",
       "12     1027692007.Fri.Jul.26_14_00_07.GMT.2002.argus0...   (480, 640, 3)   \n",
       "35     866354413.Sun.Jun.15_06_00_13.GMT.1997.argus00...      (480, 640)   \n",
       "...                                                  ...             ...   \n",
       "68923  1493647200.Mon.May.01_14_00_00.GMT.2017.argus0...  (960, 1280, 3)   \n",
       "68928  1407074400.Sun.Aug.03_14_00_00.GMT.2014.argus0...  (960, 1280, 3)   \n",
       "68949  1057896006.Fri.Jul.11_04_00_06.GMT.2003.argus0...   (480, 640, 3)   \n",
       "68956  811490418.Tue.Sep.19_06_00_18.GMT.1995.argus00...      (480, 640)   \n",
       "68960  903704406.Fri.Aug.21_13_00_06.GMT.1998.argus00...   (480, 640, 3)   \n",
       "\n",
       "        number_id weekday month_abv  day  hour  min second   tz  year  \\\n",
       "5       901371605     Sat       Jul   25    13    0     05  GMT  1998   \n",
       "9       743870192     Wed       Jul   28    14   36     32  GMT  1993   \n",
       "11      903187806     Sat       Aug   15    13   30     06  GMT  1998   \n",
       "12     1027692007     Fri       Jul   26    14    0     07  GMT  2002   \n",
       "35      866354413     Sun       Jun   15     6    0     13  GMT  1997   \n",
       "...           ...     ...       ...  ...   ...  ...    ...  ...   ...   \n",
       "68923  1493647200     Mon       May    1    14    0     00  GMT  2017   \n",
       "68928  1407074400     Sun       Aug    3    14    0     00  GMT  2014   \n",
       "68949  1057896006     Fri       Jul   11     4    0     06  GMT  2003   \n",
       "68956   811490418     Tue       Sep   19     6    0     18  GMT  1995   \n",
       "68960   903704406     Fri       Aug   21    13    0     06  GMT  1998   \n",
       "\n",
       "        camera camera_angle image_capture_type  ext  hour_PST  \n",
       "5      argus00           c0               snap  jpg         5  \n",
       "9      argus00           c0               snap  jpg         6  \n",
       "11     argus00           c0               snap  jpg         5  \n",
       "12     argus00           c0               snap  jpg         6  \n",
       "35     argus00           c0               snap  jpg        22  \n",
       "...        ...          ...                ...  ...       ...  \n",
       "68923  argus00           c0               snap  jpg         6  \n",
       "68928  argus00           c0               snap  jpg         6  \n",
       "68949  argus00           c0               snap  jpg        20  \n",
       "68956  argus00           c0               snap  jpg        22  \n",
       "68960  argus00           c0               snap  jpg         5  \n",
       "\n",
       "[8665 rows x 16 columns]"
      ]
     },
     "execution_count": 27,
     "metadata": {},
     "output_type": "execute_result"
    }
   ],
   "source": [
    "photo_info.loc[photo_info['hour_PST'].isin([4,5, 6, 21, 22, 20])]\n",
    "\n"
   ]
  },
  {
   "cell_type": "code",
   "execution_count": 58,
   "id": "09dd233e-0cd0-4885-b0d5-aa7fa8d77d4d",
   "metadata": {},
   "outputs": [
    {
     "data": {
      "text/html": [
       "<div>\n",
       "<style scoped>\n",
       "    .dataframe tbody tr th:only-of-type {\n",
       "        vertical-align: middle;\n",
       "    }\n",
       "\n",
       "    .dataframe tbody tr th {\n",
       "        vertical-align: top;\n",
       "    }\n",
       "\n",
       "    .dataframe thead th {\n",
       "        text-align: right;\n",
       "    }\n",
       "</style>\n",
       "<table border=\"1\" class=\"dataframe\">\n",
       "  <thead>\n",
       "    <tr style=\"text-align: right;\">\n",
       "      <th></th>\n",
       "      <th>project_files_location</th>\n",
       "      <th>photo_size</th>\n",
       "      <th>number_id</th>\n",
       "      <th>weekday</th>\n",
       "      <th>month_abv</th>\n",
       "      <th>day</th>\n",
       "      <th>hour</th>\n",
       "      <th>min</th>\n",
       "      <th>second</th>\n",
       "      <th>tz</th>\n",
       "      <th>year</th>\n",
       "      <th>camera</th>\n",
       "      <th>camera_angle</th>\n",
       "      <th>image_capture_type</th>\n",
       "      <th>ext</th>\n",
       "      <th>hour_PST</th>\n",
       "    </tr>\n",
       "  </thead>\n",
       "  <tbody>\n",
       "    <tr>\n",
       "      <th>61135</th>\n",
       "      <td>1285124399.Wed.Sep.22_02_59_59.GMT.2010.argus0...</td>\n",
       "      <td>(960, 1280, 3)</td>\n",
       "      <td>1285124399</td>\n",
       "      <td>Wed</td>\n",
       "      <td>Sep</td>\n",
       "      <td>22</td>\n",
       "      <td>2</td>\n",
       "      <td>59</td>\n",
       "      <td>59</td>\n",
       "      <td>GMT</td>\n",
       "      <td>2010</td>\n",
       "      <td>argus00</td>\n",
       "      <td>c0</td>\n",
       "      <td>snap</td>\n",
       "      <td>jpg</td>\n",
       "      <td>18</td>\n",
       "    </tr>\n",
       "  </tbody>\n",
       "</table>\n",
       "</div>"
      ],
      "text/plain": [
       "                                  project_files_location      photo_size  \\\n",
       "61135  1285124399.Wed.Sep.22_02_59_59.GMT.2010.argus0...  (960, 1280, 3)   \n",
       "\n",
       "        number_id weekday month_abv  day  hour  min second   tz  year  \\\n",
       "61135  1285124399     Wed       Sep   22     2   59     59  GMT  2010   \n",
       "\n",
       "        camera camera_angle image_capture_type  ext  hour_PST  \n",
       "61135  argus00           c0               snap  jpg        18  "
      ]
     },
     "execution_count": 58,
     "metadata": {},
     "output_type": "execute_result"
    }
   ],
   "source": [
    "photo_info.loc[photo_info['project_files_location'] == '779004018.Thu.Sep.08_06_00_18.GMT.1994.argus00.c0.snap.jpg']\n",
    "photo_info.loc[photo_info['project_files_location'] == '778946434.Wed.Sep.07_14_00_34.GMT.1994.argus00.c0.snap.jpg']\n",
    "photo_info.loc[photo_info['project_files_location'] == '1285124399.Wed.Sep.22_02_59_59.GMT.2010.argus00.c0.snap.jpg']\n"
   ]
  },
  {
   "cell_type": "code",
   "execution_count": null,
   "id": "45b7c74b-dfea-490f-80b1-e130a094a2cf",
   "metadata": {},
   "outputs": [],
   "source": []
  },
  {
   "cell_type": "code",
   "execution_count": 59,
   "id": "a04101ec-553c-4f6e-baca-cd4460544a48",
   "metadata": {},
   "outputs": [
    {
     "name": "stdout",
     "output_type": "stream",
     "text": [
      "76.41513933657546\n",
      "0.12644107935587257\n"
     ]
    }
   ],
   "source": [
    "print(tt[11303,:].sum())\n",
    "print(tt[61135,:].max())\n"
   ]
  },
  {
   "cell_type": "code",
   "execution_count": 48,
   "id": "89c5e78d-74d2-48d9-adb0-52167224882b",
   "metadata": {},
   "outputs": [],
   "source": [
    "max_vals = tt.max(axis = 1)"
   ]
  },
  {
   "cell_type": "code",
   "execution_count": 52,
   "id": "1dd35437-c1c9-4b2d-985e-82d118e38bf5",
   "metadata": {},
   "outputs": [
    {
     "name": "stdout",
     "output_type": "stream",
     "text": [
      "min 0.058288572737832695\n",
      "mean 1.9170249802022399\n",
      "max 2.5428256306304373\n"
     ]
    }
   ],
   "source": [
    "print('min', max_vals.min())\n",
    "# print('median', max_vals.median())\n",
    "print('mean', max_vals.mean())\n",
    "print('max', max_vals.max())\n",
    "# print('min', max_vals.min())\n",
    "# print('min', max_vals.min())"
   ]
  },
  {
   "cell_type": "code",
   "execution_count": 60,
   "id": "55dacdeb-e00f-4998-bdc9-a4713ff5436b",
   "metadata": {},
   "outputs": [
    {
     "name": "stdout",
     "output_type": "stream",
     "text": [
      "0.01715188772255408\n"
     ]
    },
    {
     "data": {
      "text/plain": [
       "(array([    6,     9,    35, ..., 68755, 68846, 68947]),)"
      ]
     },
     "execution_count": 60,
     "metadata": {},
     "output_type": "execute_result"
    }
   ],
   "source": [
    "print(len(max_vals[max_vals<0.9])/len(max_vals))\n",
    "np.where(max_vals<0.9)"
   ]
  },
  {
   "cell_type": "code",
   "execution_count": 61,
   "id": "e22c456e-1310-4dd9-a7fd-2413e0cedffc",
   "metadata": {},
   "outputs": [
    {
     "data": {
      "text/plain": [
       "0.18711964742772508"
      ]
     },
     "execution_count": 61,
     "metadata": {},
     "output_type": "execute_result"
    }
   ],
   "source": [
    "max_vals[6]"
   ]
  },
  {
   "cell_type": "code",
   "execution_count": 63,
   "id": "2b746f85-5a7b-481e-8708-18d0721e6933",
   "metadata": {},
   "outputs": [],
   "source": [
    "screened = photo_info.loc[np.where(max_vals<0.9)]"
   ]
  },
  {
   "cell_type": "code",
   "execution_count": 70,
   "id": "9409e260-2c1f-44a0-add4-d9fe8790e8dc",
   "metadata": {},
   "outputs": [
    {
     "data": {
      "text/plain": [
       "1183"
      ]
     },
     "execution_count": 70,
     "metadata": {},
     "output_type": "execute_result"
    }
   ],
   "source": [
    "screened.loc[screened['project_files_location'] == '1304902800.Mon.May.09_01_00_00.GMT.2011.argus00.c0.snap.jpg']\n",
    "len(screened)"
   ]
  },
  {
   "cell_type": "code",
   "execution_count": null,
   "id": "a8da2233-17ca-4a75-b2e8-7d7a420a2af5",
   "metadata": {},
   "outputs": [],
   "source": [
    "keep = photo_info.loc[np.where(max_vals<0.9)]"
   ]
  },
  {
   "cell_type": "code",
   "execution_count": 67,
   "id": "17bbd1dc-3800-4bd9-a106-ef95710264f2",
   "metadata": {},
   "outputs": [],
   "source": [
    "X_train, X_test = train_test_split(np.array(photo_info.index),\n",
    "        test_size=0.95, random_state=42)"
   ]
  },
  {
   "cell_type": "code",
   "execution_count": 68,
   "id": "afaeb114-ee2f-431c-921d-e1a6f04186a1",
   "metadata": {},
   "outputs": [
    {
     "data": {
      "text/plain": [
       "3448"
      ]
     },
     "execution_count": 68,
     "metadata": {},
     "output_type": "execute_result"
    }
   ],
   "source": [
    "len(X_train)"
   ]
  },
  {
   "cell_type": "code",
   "execution_count": 69,
   "id": "25d2c8b5-495c-43c8-b4a1-e945efbe3de8",
   "metadata": {},
   "outputs": [
    {
     "ename": "AttributeError",
     "evalue": "'numpy.ndarray' object has no attribute 'isin'",
     "output_type": "error",
     "traceback": [
      "\u001b[0;31m---------------------------------------------------------------------------\u001b[0m",
      "\u001b[0;31mAttributeError\u001b[0m                            Traceback (most recent call last)",
      "\u001b[0;32m/tmp/ipykernel_11478/4252348635.py\u001b[0m in \u001b[0;36m<cell line: 1>\u001b[0;34m()\u001b[0m\n\u001b[0;32m----> 1\u001b[0;31m \u001b[0mX_train\u001b[0m\u001b[0;34m[\u001b[0m\u001b[0mX_train\u001b[0m\u001b[0;34m.\u001b[0m\u001b[0misin\u001b[0m\u001b[0;34m(\u001b[0m\u001b[0mnp\u001b[0m\u001b[0;34m.\u001b[0m\u001b[0mwhere\u001b[0m\u001b[0;34m(\u001b[0m\u001b[0mmax_vals\u001b[0m\u001b[0;34m<\u001b[0m\u001b[0;36m0.9\u001b[0m\u001b[0;34m)\u001b[0m\u001b[0;34m)\u001b[0m\u001b[0;34m]\u001b[0m\u001b[0;34m\u001b[0m\u001b[0;34m\u001b[0m\u001b[0m\n\u001b[0m",
      "\u001b[0;31mAttributeError\u001b[0m: 'numpy.ndarray' object has no attribute 'isin'"
     ]
    }
   ],
   "source": [
    "X_train[X_train.isin(np.where(max_vals<0.9))]"
   ]
  },
  {
   "cell_type": "code",
   "execution_count": 34,
   "id": "2ac9cd8c-9780-4314-a36f-0a952ce16fa2",
   "metadata": {},
   "outputs": [],
   "source": [
    "label_paths = photo_info.loc[X_train, 'project_files_location']"
   ]
  },
  {
   "cell_type": "code",
   "execution_count": 35,
   "id": "ed631fbb-8cb0-421b-961d-f4c1703ca952",
   "metadata": {},
   "outputs": [],
   "source": [
    "# photo_info.loc[0, 'project_files_location']\n"
   ]
  },
  {
   "cell_type": "code",
   "execution_count": 32,
   "id": "cfd060c3-ddfb-45ea-9726-ba5e5269ffd9",
   "metadata": {},
   "outputs": [
    {
     "data": {
      "text/plain": [
       "'/home/smmrrr/Fog_Imaging_Project/label_image_data/746574512.Sat.Aug.28_21_48_32.GMT.1993.argus00.c0.snap.jpg'"
      ]
     },
     "execution_count": 32,
     "metadata": {},
     "output_type": "execute_result"
    }
   ],
   "source": [
    "shutil.copy('/home/smmrrr/Fog_Imaging_Project/image_data/'+'746574512.Sat.Aug.28_21_48_32.GMT.1993.argus00.c0.snap.jpg', \n",
    "             '/home/smmrrr/Fog_Imaging_Project/label_image_data/'+'746574512.Sat.Aug.28_21_48_32.GMT.1993.argus00.c0.snap.jpg', \n",
    "             follow_symlinks=True)"
   ]
  },
  {
   "cell_type": "code",
   "execution_count": 7,
   "id": "7177b4aa-eb24-4a40-bc80-0054dc3efce5",
   "metadata": {},
   "outputs": [],
   "source": [
    "# https://idaes-pse.readthedocs.io/en/1.5.1/surrogate/pysmo/pysmo_lhs.html\n",
    "\n",
    "# pysmo.sampling.LatinHypercubeSampling(tt, 10, sampling_type=\"selection\")"
   ]
  },
  {
   "cell_type": "code",
   "execution_count": 37,
   "id": "c23b9aa1-bb82-4daa-874a-5f8ea15afb17",
   "metadata": {},
   "outputs": [
    {
     "name": "stdout",
     "output_type": "stream",
     "text": [
      "ERROR! Session/line number was not unique in database. History logging moved to new session 218\n"
     ]
    }
   ],
   "source": [
    "\n",
    "for file in label_paths:\n",
    "    shutil.copyfile('/home/smmrrr/Fog_Imaging_Project/image_data/'+file, \n",
    "             '/home/smmrrr/Fog_Imaging_Project/label_image_data/'+file, \n",
    "             follow_symlinks=True)"
   ]
  }
 ],
 "metadata": {
  "kernelspec": {
   "display_name": "condaforge",
   "language": "python",
   "name": "condaforge"
  },
  "language_info": {
   "codemirror_mode": {
    "name": "ipython",
    "version": 3
   },
   "file_extension": ".py",
   "mimetype": "text/x-python",
   "name": "python",
   "nbconvert_exporter": "python",
   "pygments_lexer": "ipython3",
   "version": "3.10.6"
  }
 },
 "nbformat": 4,
 "nbformat_minor": 5
}
